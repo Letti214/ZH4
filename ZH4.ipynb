{
    "metadata": {
        "kernelspec": {
            "name": "SQL",
            "display_name": "SQL",
            "language": "sql"
        },
        "language_info": {
            "name": "sql",
            "version": ""
        }
    },
    "nbformat_minor": 2,
    "nbformat": 4,
    "cells": [
        {
            "cell_type": "markdown",
            "source": [
                "Jelenítsük meg minden egyes szoba esetén, hogy hányszor foglalták le!\n",
                "\n",
                "- Csak a szoba azonosítója és a foglalások darabszáma jelenjen meg\n",
                "- Azok a szobák is jelenjenek meg, ahol nem történt foglalás"
            ],
            "metadata": {
                "language": "sql",
                "azdata_cell_guid": "4c9598d5-c4da-4097-b235-a4a1914fc541"
            },
            "attachments": {}
        },
        {
            "cell_type": "code",
            "source": [
                "SELECT sz.SZOBA_ID AS \"Szoba azonosítója\",\n",
                "        COUNT(f.FOGLALAS_PK) AS \"Foglalások száma\"\n",
                "FROM Foglalas f JOIN Szoba sz ON f.SZOBA_FK = sz.SZOBA_ID\n",
                "GROUP BY sz.SZOBA_ID\n",
                "HAVING COUNT(f.FOGLALAS_PK) > 0"
            ],
            "metadata": {
                "azdata_cell_guid": "bdecb765-ae81-49d6-97e5-61a321bc84d1",
                "language": "sql",
                "tags": [
                    "hide_input"
                ]
            },
            "outputs": [
                {
                    "output_type": "display_data",
                    "data": {
                        "text/html": "(197 rows affected)"
                    },
                    "metadata": {}
                },
                {
                    "output_type": "display_data",
                    "data": {
                        "text/html": "Total execution time: 00:00:00.048"
                    },
                    "metadata": {}
                },
                {
                    "output_type": "execute_result",
                    "execution_count": 10,
                    "data": {
                        "application/vnd.dataresource+json": {
                            "schema": {
                                "fields": [
                                    {
                                        "name": "Szoba azonosítója"
                                    },
                                    {
                                        "name": "Foglalások száma"
                                    }
                                ]
                            },
                            "data": [
                                {
                                    "Szoba azonosítója": "1",
                                    "Foglalások száma": "8"
                                },
                                {
                                    "Szoba azonosítója": "2",
                                    "Foglalások száma": "4"
                                },
                                {
                                    "Szoba azonosítója": "3",
                                    "Foglalások száma": "8"
                                },
                                {
                                    "Szoba azonosítója": "4",
                                    "Foglalások száma": "6"
                                },
                                {
                                    "Szoba azonosítója": "5",
                                    "Foglalások száma": "4"
                                },
                                {
                                    "Szoba azonosítója": "6",
                                    "Foglalások száma": "6"
                                },
                                {
                                    "Szoba azonosítója": "7",
                                    "Foglalások száma": "6"
                                },
                                {
                                    "Szoba azonosítója": "8",
                                    "Foglalások száma": "5"
                                },
                                {
                                    "Szoba azonosítója": "9",
                                    "Foglalások száma": "6"
                                },
                                {
                                    "Szoba azonosítója": "10",
                                    "Foglalások száma": "4"
                                },
                                {
                                    "Szoba azonosítója": "11",
                                    "Foglalások száma": "4"
                                },
                                {
                                    "Szoba azonosítója": "12",
                                    "Foglalások száma": "9"
                                },
                                {
                                    "Szoba azonosítója": "13",
                                    "Foglalások száma": "4"
                                },
                                {
                                    "Szoba azonosítója": "14",
                                    "Foglalások száma": "3"
                                },
                                {
                                    "Szoba azonosítója": "15",
                                    "Foglalások száma": "6"
                                },
                                {
                                    "Szoba azonosítója": "16",
                                    "Foglalások száma": "5"
                                },
                                {
                                    "Szoba azonosítója": "17",
                                    "Foglalások száma": "6"
                                },
                                {
                                    "Szoba azonosítója": "18",
                                    "Foglalások száma": "6"
                                },
                                {
                                    "Szoba azonosítója": "19",
                                    "Foglalások száma": "6"
                                },
                                {
                                    "Szoba azonosítója": "20",
                                    "Foglalások száma": "5"
                                },
                                {
                                    "Szoba azonosítója": "21",
                                    "Foglalások száma": "4"
                                },
                                {
                                    "Szoba azonosítója": "22",
                                    "Foglalások száma": "6"
                                },
                                {
                                    "Szoba azonosítója": "23",
                                    "Foglalások száma": "3"
                                },
                                {
                                    "Szoba azonosítója": "24",
                                    "Foglalások száma": "3"
                                },
                                {
                                    "Szoba azonosítója": "25",
                                    "Foglalások száma": "2"
                                },
                                {
                                    "Szoba azonosítója": "26",
                                    "Foglalások száma": "2"
                                },
                                {
                                    "Szoba azonosítója": "27",
                                    "Foglalások száma": "7"
                                },
                                {
                                    "Szoba azonosítója": "28",
                                    "Foglalások száma": "6"
                                },
                                {
                                    "Szoba azonosítója": "29",
                                    "Foglalások száma": "6"
                                },
                                {
                                    "Szoba azonosítója": "30",
                                    "Foglalások száma": "3"
                                },
                                {
                                    "Szoba azonosítója": "31",
                                    "Foglalások száma": "3"
                                },
                                {
                                    "Szoba azonosítója": "32",
                                    "Foglalások száma": "1"
                                },
                                {
                                    "Szoba azonosítója": "33",
                                    "Foglalások száma": "6"
                                },
                                {
                                    "Szoba azonosítója": "34",
                                    "Foglalások száma": "4"
                                },
                                {
                                    "Szoba azonosítója": "35",
                                    "Foglalások száma": "9"
                                },
                                {
                                    "Szoba azonosítója": "36",
                                    "Foglalások száma": "6"
                                },
                                {
                                    "Szoba azonosítója": "37",
                                    "Foglalások száma": "3"
                                },
                                {
                                    "Szoba azonosítója": "38",
                                    "Foglalások száma": "8"
                                },
                                {
                                    "Szoba azonosítója": "39",
                                    "Foglalások száma": "7"
                                },
                                {
                                    "Szoba azonosítója": "40",
                                    "Foglalások száma": "4"
                                },
                                {
                                    "Szoba azonosítója": "41",
                                    "Foglalások száma": "2"
                                },
                                {
                                    "Szoba azonosítója": "42",
                                    "Foglalások száma": "6"
                                },
                                {
                                    "Szoba azonosítója": "43",
                                    "Foglalások száma": "8"
                                },
                                {
                                    "Szoba azonosítója": "44",
                                    "Foglalások száma": "6"
                                },
                                {
                                    "Szoba azonosítója": "45",
                                    "Foglalások száma": "5"
                                },
                                {
                                    "Szoba azonosítója": "46",
                                    "Foglalások száma": "4"
                                },
                                {
                                    "Szoba azonosítója": "47",
                                    "Foglalások száma": "2"
                                },
                                {
                                    "Szoba azonosítója": "48",
                                    "Foglalások száma": "9"
                                },
                                {
                                    "Szoba azonosítója": "49",
                                    "Foglalások száma": "7"
                                },
                                {
                                    "Szoba azonosítója": "50",
                                    "Foglalások száma": "4"
                                },
                                {
                                    "Szoba azonosítója": "51",
                                    "Foglalások száma": "5"
                                },
                                {
                                    "Szoba azonosítója": "52",
                                    "Foglalások száma": "5"
                                },
                                {
                                    "Szoba azonosítója": "53",
                                    "Foglalások száma": "2"
                                },
                                {
                                    "Szoba azonosítója": "54",
                                    "Foglalások száma": "6"
                                },
                                {
                                    "Szoba azonosítója": "55",
                                    "Foglalások száma": "8"
                                },
                                {
                                    "Szoba azonosítója": "56",
                                    "Foglalások száma": "2"
                                },
                                {
                                    "Szoba azonosítója": "57",
                                    "Foglalások száma": "4"
                                },
                                {
                                    "Szoba azonosítója": "58",
                                    "Foglalások száma": "13"
                                },
                                {
                                    "Szoba azonosítója": "59",
                                    "Foglalások száma": "7"
                                },
                                {
                                    "Szoba azonosítója": "60",
                                    "Foglalások száma": "1"
                                },
                                {
                                    "Szoba azonosítója": "61",
                                    "Foglalások száma": "5"
                                },
                                {
                                    "Szoba azonosítója": "62",
                                    "Foglalások száma": "5"
                                },
                                {
                                    "Szoba azonosítója": "63",
                                    "Foglalások száma": "4"
                                },
                                {
                                    "Szoba azonosítója": "64",
                                    "Foglalások száma": "6"
                                },
                                {
                                    "Szoba azonosítója": "65",
                                    "Foglalások száma": "1"
                                },
                                {
                                    "Szoba azonosítója": "66",
                                    "Foglalások száma": "4"
                                },
                                {
                                    "Szoba azonosítója": "67",
                                    "Foglalások száma": "6"
                                },
                                {
                                    "Szoba azonosítója": "68",
                                    "Foglalások száma": "3"
                                },
                                {
                                    "Szoba azonosítója": "69",
                                    "Foglalások száma": "4"
                                },
                                {
                                    "Szoba azonosítója": "70",
                                    "Foglalások száma": "11"
                                },
                                {
                                    "Szoba azonosítója": "71",
                                    "Foglalások száma": "3"
                                },
                                {
                                    "Szoba azonosítója": "72",
                                    "Foglalások száma": "4"
                                },
                                {
                                    "Szoba azonosítója": "73",
                                    "Foglalások száma": "4"
                                },
                                {
                                    "Szoba azonosítója": "74",
                                    "Foglalások száma": "9"
                                },
                                {
                                    "Szoba azonosítója": "75",
                                    "Foglalások száma": "3"
                                },
                                {
                                    "Szoba azonosítója": "76",
                                    "Foglalások száma": "3"
                                },
                                {
                                    "Szoba azonosítója": "77",
                                    "Foglalások száma": "6"
                                },
                                {
                                    "Szoba azonosítója": "78",
                                    "Foglalások száma": "6"
                                },
                                {
                                    "Szoba azonosítója": "79",
                                    "Foglalások száma": "5"
                                },
                                {
                                    "Szoba azonosítója": "80",
                                    "Foglalások száma": "7"
                                },
                                {
                                    "Szoba azonosítója": "81",
                                    "Foglalások száma": "5"
                                },
                                {
                                    "Szoba azonosítója": "82",
                                    "Foglalások száma": "6"
                                },
                                {
                                    "Szoba azonosítója": "83",
                                    "Foglalások száma": "8"
                                },
                                {
                                    "Szoba azonosítója": "84",
                                    "Foglalások száma": "4"
                                },
                                {
                                    "Szoba azonosítója": "85",
                                    "Foglalások száma": "4"
                                },
                                {
                                    "Szoba azonosítója": "86",
                                    "Foglalások száma": "5"
                                },
                                {
                                    "Szoba azonosítója": "87",
                                    "Foglalások száma": "5"
                                },
                                {
                                    "Szoba azonosítója": "88",
                                    "Foglalások száma": "8"
                                },
                                {
                                    "Szoba azonosítója": "89",
                                    "Foglalások száma": "8"
                                },
                                {
                                    "Szoba azonosítója": "90",
                                    "Foglalások száma": "4"
                                },
                                {
                                    "Szoba azonosítója": "91",
                                    "Foglalások száma": "4"
                                },
                                {
                                    "Szoba azonosítója": "92",
                                    "Foglalások száma": "6"
                                },
                                {
                                    "Szoba azonosítója": "93",
                                    "Foglalások száma": "5"
                                },
                                {
                                    "Szoba azonosítója": "94",
                                    "Foglalások száma": "10"
                                },
                                {
                                    "Szoba azonosítója": "95",
                                    "Foglalások száma": "4"
                                },
                                {
                                    "Szoba azonosítója": "96",
                                    "Foglalások száma": "7"
                                },
                                {
                                    "Szoba azonosítója": "97",
                                    "Foglalások száma": "7"
                                },
                                {
                                    "Szoba azonosítója": "98",
                                    "Foglalások száma": "4"
                                },
                                {
                                    "Szoba azonosítója": "99",
                                    "Foglalások száma": "5"
                                },
                                {
                                    "Szoba azonosítója": "100",
                                    "Foglalások száma": "4"
                                },
                                {
                                    "Szoba azonosítója": "101",
                                    "Foglalások száma": "3"
                                },
                                {
                                    "Szoba azonosítója": "102",
                                    "Foglalások száma": "2"
                                },
                                {
                                    "Szoba azonosítója": "103",
                                    "Foglalások száma": "4"
                                },
                                {
                                    "Szoba azonosítója": "104",
                                    "Foglalások száma": "4"
                                },
                                {
                                    "Szoba azonosítója": "105",
                                    "Foglalások száma": "2"
                                },
                                {
                                    "Szoba azonosítója": "106",
                                    "Foglalások száma": "6"
                                },
                                {
                                    "Szoba azonosítója": "107",
                                    "Foglalások száma": "5"
                                },
                                {
                                    "Szoba azonosítója": "108",
                                    "Foglalások száma": "2"
                                },
                                {
                                    "Szoba azonosítója": "109",
                                    "Foglalások száma": "7"
                                },
                                {
                                    "Szoba azonosítója": "110",
                                    "Foglalások száma": "8"
                                },
                                {
                                    "Szoba azonosítója": "111",
                                    "Foglalások száma": "5"
                                },
                                {
                                    "Szoba azonosítója": "112",
                                    "Foglalások száma": "5"
                                },
                                {
                                    "Szoba azonosítója": "113",
                                    "Foglalások száma": "5"
                                },
                                {
                                    "Szoba azonosítója": "114",
                                    "Foglalások száma": "4"
                                },
                                {
                                    "Szoba azonosítója": "115",
                                    "Foglalások száma": "7"
                                },
                                {
                                    "Szoba azonosítója": "116",
                                    "Foglalások száma": "2"
                                },
                                {
                                    "Szoba azonosítója": "117",
                                    "Foglalások száma": "8"
                                },
                                {
                                    "Szoba azonosítója": "118",
                                    "Foglalások száma": "7"
                                },
                                {
                                    "Szoba azonosítója": "119",
                                    "Foglalások száma": "5"
                                },
                                {
                                    "Szoba azonosítója": "120",
                                    "Foglalások száma": "6"
                                },
                                {
                                    "Szoba azonosítója": "121",
                                    "Foglalások száma": "8"
                                },
                                {
                                    "Szoba azonosítója": "122",
                                    "Foglalások száma": "9"
                                },
                                {
                                    "Szoba azonosítója": "123",
                                    "Foglalások száma": "5"
                                },
                                {
                                    "Szoba azonosítója": "124",
                                    "Foglalások száma": "6"
                                },
                                {
                                    "Szoba azonosítója": "125",
                                    "Foglalások száma": "1"
                                },
                                {
                                    "Szoba azonosítója": "126",
                                    "Foglalások száma": "6"
                                },
                                {
                                    "Szoba azonosítója": "127",
                                    "Foglalások száma": "7"
                                },
                                {
                                    "Szoba azonosítója": "128",
                                    "Foglalások száma": "5"
                                },
                                {
                                    "Szoba azonosítója": "129",
                                    "Foglalások száma": "4"
                                },
                                {
                                    "Szoba azonosítója": "130",
                                    "Foglalások száma": "6"
                                },
                                {
                                    "Szoba azonosítója": "131",
                                    "Foglalások száma": "5"
                                },
                                {
                                    "Szoba azonosítója": "132",
                                    "Foglalások száma": "6"
                                },
                                {
                                    "Szoba azonosítója": "133",
                                    "Foglalások száma": "6"
                                },
                                {
                                    "Szoba azonosítója": "134",
                                    "Foglalások száma": "6"
                                },
                                {
                                    "Szoba azonosítója": "135",
                                    "Foglalások száma": "3"
                                },
                                {
                                    "Szoba azonosítója": "136",
                                    "Foglalások száma": "3"
                                },
                                {
                                    "Szoba azonosítója": "137",
                                    "Foglalások száma": "6"
                                },
                                {
                                    "Szoba azonosítója": "138",
                                    "Foglalások száma": "7"
                                },
                                {
                                    "Szoba azonosítója": "139",
                                    "Foglalások száma": "7"
                                },
                                {
                                    "Szoba azonosítója": "140",
                                    "Foglalások száma": "8"
                                },
                                {
                                    "Szoba azonosítója": "141",
                                    "Foglalások száma": "6"
                                },
                                {
                                    "Szoba azonosítója": "142",
                                    "Foglalások száma": "2"
                                },
                                {
                                    "Szoba azonosítója": "143",
                                    "Foglalások száma": "7"
                                },
                                {
                                    "Szoba azonosítója": "144",
                                    "Foglalások száma": "5"
                                },
                                {
                                    "Szoba azonosítója": "145",
                                    "Foglalások száma": "6"
                                },
                                {
                                    "Szoba azonosítója": "146",
                                    "Foglalások száma": "6"
                                },
                                {
                                    "Szoba azonosítója": "147",
                                    "Foglalások száma": "1"
                                },
                                {
                                    "Szoba azonosítója": "148",
                                    "Foglalások száma": "6"
                                },
                                {
                                    "Szoba azonosítója": "149",
                                    "Foglalások száma": "7"
                                },
                                {
                                    "Szoba azonosítója": "150",
                                    "Foglalások száma": "6"
                                },
                                {
                                    "Szoba azonosítója": "151",
                                    "Foglalások száma": "3"
                                },
                                {
                                    "Szoba azonosítója": "152",
                                    "Foglalások száma": "4"
                                },
                                {
                                    "Szoba azonosítója": "153",
                                    "Foglalások száma": "5"
                                },
                                {
                                    "Szoba azonosítója": "154",
                                    "Foglalások száma": "5"
                                },
                                {
                                    "Szoba azonosítója": "155",
                                    "Foglalások száma": "5"
                                },
                                {
                                    "Szoba azonosítója": "156",
                                    "Foglalások száma": "7"
                                },
                                {
                                    "Szoba azonosítója": "157",
                                    "Foglalások száma": "5"
                                },
                                {
                                    "Szoba azonosítója": "158",
                                    "Foglalások száma": "3"
                                },
                                {
                                    "Szoba azonosítója": "160",
                                    "Foglalások száma": "5"
                                },
                                {
                                    "Szoba azonosítója": "161",
                                    "Foglalások száma": "6"
                                },
                                {
                                    "Szoba azonosítója": "162",
                                    "Foglalások száma": "3"
                                },
                                {
                                    "Szoba azonosítója": "163",
                                    "Foglalások száma": "7"
                                },
                                {
                                    "Szoba azonosítója": "164",
                                    "Foglalások száma": "5"
                                },
                                {
                                    "Szoba azonosítója": "165",
                                    "Foglalások száma": "7"
                                },
                                {
                                    "Szoba azonosítója": "166",
                                    "Foglalások száma": "3"
                                },
                                {
                                    "Szoba azonosítója": "167",
                                    "Foglalások száma": "2"
                                },
                                {
                                    "Szoba azonosítója": "168",
                                    "Foglalások száma": "5"
                                },
                                {
                                    "Szoba azonosítója": "169",
                                    "Foglalások száma": "6"
                                },
                                {
                                    "Szoba azonosítója": "170",
                                    "Foglalások száma": "5"
                                },
                                {
                                    "Szoba azonosítója": "171",
                                    "Foglalások száma": "5"
                                },
                                {
                                    "Szoba azonosítója": "172",
                                    "Foglalások száma": "9"
                                },
                                {
                                    "Szoba azonosítója": "173",
                                    "Foglalások száma": "4"
                                },
                                {
                                    "Szoba azonosítója": "174",
                                    "Foglalások száma": "4"
                                },
                                {
                                    "Szoba azonosítója": "175",
                                    "Foglalások száma": "5"
                                },
                                {
                                    "Szoba azonosítója": "176",
                                    "Foglalások száma": "6"
                                },
                                {
                                    "Szoba azonosítója": "177",
                                    "Foglalások száma": "4"
                                },
                                {
                                    "Szoba azonosítója": "178",
                                    "Foglalások száma": "4"
                                },
                                {
                                    "Szoba azonosítója": "179",
                                    "Foglalások száma": "3"
                                },
                                {
                                    "Szoba azonosítója": "180",
                                    "Foglalások száma": "3"
                                },
                                {
                                    "Szoba azonosítója": "181",
                                    "Foglalások száma": "6"
                                },
                                {
                                    "Szoba azonosítója": "182",
                                    "Foglalások száma": "12"
                                },
                                {
                                    "Szoba azonosítója": "183",
                                    "Foglalások száma": "4"
                                },
                                {
                                    "Szoba azonosítója": "184",
                                    "Foglalások száma": "4"
                                },
                                {
                                    "Szoba azonosítója": "185",
                                    "Foglalások száma": "12"
                                },
                                {
                                    "Szoba azonosítója": "186",
                                    "Foglalások száma": "4"
                                },
                                {
                                    "Szoba azonosítója": "187",
                                    "Foglalások száma": "7"
                                },
                                {
                                    "Szoba azonosítója": "188",
                                    "Foglalások száma": "6"
                                },
                                {
                                    "Szoba azonosítója": "189",
                                    "Foglalások száma": "5"
                                },
                                {
                                    "Szoba azonosítója": "190",
                                    "Foglalások száma": "5"
                                },
                                {
                                    "Szoba azonosítója": "191",
                                    "Foglalások száma": "5"
                                },
                                {
                                    "Szoba azonosítója": "192",
                                    "Foglalások száma": "2"
                                },
                                {
                                    "Szoba azonosítója": "193",
                                    "Foglalások száma": "7"
                                },
                                {
                                    "Szoba azonosítója": "194",
                                    "Foglalások száma": "1"
                                },
                                {
                                    "Szoba azonosítója": "195",
                                    "Foglalások száma": "6"
                                },
                                {
                                    "Szoba azonosítója": "196",
                                    "Foglalások száma": "4"
                                },
                                {
                                    "Szoba azonosítója": "197",
                                    "Foglalások száma": "6"
                                },
                                {
                                    "Szoba azonosítója": "198",
                                    "Foglalások száma": "8"
                                }
                            ]
                        },
                        "text/html": "<table><tr><th>Szoba azonosítója</th><th>Foglalások száma</th></tr><tr><td>1</td><td>8</td></tr><tr><td>2</td><td>4</td></tr><tr><td>3</td><td>8</td></tr><tr><td>4</td><td>6</td></tr><tr><td>5</td><td>4</td></tr><tr><td>6</td><td>6</td></tr><tr><td>7</td><td>6</td></tr><tr><td>8</td><td>5</td></tr><tr><td>9</td><td>6</td></tr><tr><td>10</td><td>4</td></tr><tr><td>11</td><td>4</td></tr><tr><td>12</td><td>9</td></tr><tr><td>13</td><td>4</td></tr><tr><td>14</td><td>3</td></tr><tr><td>15</td><td>6</td></tr><tr><td>16</td><td>5</td></tr><tr><td>17</td><td>6</td></tr><tr><td>18</td><td>6</td></tr><tr><td>19</td><td>6</td></tr><tr><td>20</td><td>5</td></tr><tr><td>21</td><td>4</td></tr><tr><td>22</td><td>6</td></tr><tr><td>23</td><td>3</td></tr><tr><td>24</td><td>3</td></tr><tr><td>25</td><td>2</td></tr><tr><td>26</td><td>2</td></tr><tr><td>27</td><td>7</td></tr><tr><td>28</td><td>6</td></tr><tr><td>29</td><td>6</td></tr><tr><td>30</td><td>3</td></tr><tr><td>31</td><td>3</td></tr><tr><td>32</td><td>1</td></tr><tr><td>33</td><td>6</td></tr><tr><td>34</td><td>4</td></tr><tr><td>35</td><td>9</td></tr><tr><td>36</td><td>6</td></tr><tr><td>37</td><td>3</td></tr><tr><td>38</td><td>8</td></tr><tr><td>39</td><td>7</td></tr><tr><td>40</td><td>4</td></tr><tr><td>41</td><td>2</td></tr><tr><td>42</td><td>6</td></tr><tr><td>43</td><td>8</td></tr><tr><td>44</td><td>6</td></tr><tr><td>45</td><td>5</td></tr><tr><td>46</td><td>4</td></tr><tr><td>47</td><td>2</td></tr><tr><td>48</td><td>9</td></tr><tr><td>49</td><td>7</td></tr><tr><td>50</td><td>4</td></tr><tr><td>51</td><td>5</td></tr><tr><td>52</td><td>5</td></tr><tr><td>53</td><td>2</td></tr><tr><td>54</td><td>6</td></tr><tr><td>55</td><td>8</td></tr><tr><td>56</td><td>2</td></tr><tr><td>57</td><td>4</td></tr><tr><td>58</td><td>13</td></tr><tr><td>59</td><td>7</td></tr><tr><td>60</td><td>1</td></tr><tr><td>61</td><td>5</td></tr><tr><td>62</td><td>5</td></tr><tr><td>63</td><td>4</td></tr><tr><td>64</td><td>6</td></tr><tr><td>65</td><td>1</td></tr><tr><td>66</td><td>4</td></tr><tr><td>67</td><td>6</td></tr><tr><td>68</td><td>3</td></tr><tr><td>69</td><td>4</td></tr><tr><td>70</td><td>11</td></tr><tr><td>71</td><td>3</td></tr><tr><td>72</td><td>4</td></tr><tr><td>73</td><td>4</td></tr><tr><td>74</td><td>9</td></tr><tr><td>75</td><td>3</td></tr><tr><td>76</td><td>3</td></tr><tr><td>77</td><td>6</td></tr><tr><td>78</td><td>6</td></tr><tr><td>79</td><td>5</td></tr><tr><td>80</td><td>7</td></tr><tr><td>81</td><td>5</td></tr><tr><td>82</td><td>6</td></tr><tr><td>83</td><td>8</td></tr><tr><td>84</td><td>4</td></tr><tr><td>85</td><td>4</td></tr><tr><td>86</td><td>5</td></tr><tr><td>87</td><td>5</td></tr><tr><td>88</td><td>8</td></tr><tr><td>89</td><td>8</td></tr><tr><td>90</td><td>4</td></tr><tr><td>91</td><td>4</td></tr><tr><td>92</td><td>6</td></tr><tr><td>93</td><td>5</td></tr><tr><td>94</td><td>10</td></tr><tr><td>95</td><td>4</td></tr><tr><td>96</td><td>7</td></tr><tr><td>97</td><td>7</td></tr><tr><td>98</td><td>4</td></tr><tr><td>99</td><td>5</td></tr><tr><td>100</td><td>4</td></tr><tr><td>101</td><td>3</td></tr><tr><td>102</td><td>2</td></tr><tr><td>103</td><td>4</td></tr><tr><td>104</td><td>4</td></tr><tr><td>105</td><td>2</td></tr><tr><td>106</td><td>6</td></tr><tr><td>107</td><td>5</td></tr><tr><td>108</td><td>2</td></tr><tr><td>109</td><td>7</td></tr><tr><td>110</td><td>8</td></tr><tr><td>111</td><td>5</td></tr><tr><td>112</td><td>5</td></tr><tr><td>113</td><td>5</td></tr><tr><td>114</td><td>4</td></tr><tr><td>115</td><td>7</td></tr><tr><td>116</td><td>2</td></tr><tr><td>117</td><td>8</td></tr><tr><td>118</td><td>7</td></tr><tr><td>119</td><td>5</td></tr><tr><td>120</td><td>6</td></tr><tr><td>121</td><td>8</td></tr><tr><td>122</td><td>9</td></tr><tr><td>123</td><td>5</td></tr><tr><td>124</td><td>6</td></tr><tr><td>125</td><td>1</td></tr><tr><td>126</td><td>6</td></tr><tr><td>127</td><td>7</td></tr><tr><td>128</td><td>5</td></tr><tr><td>129</td><td>4</td></tr><tr><td>130</td><td>6</td></tr><tr><td>131</td><td>5</td></tr><tr><td>132</td><td>6</td></tr><tr><td>133</td><td>6</td></tr><tr><td>134</td><td>6</td></tr><tr><td>135</td><td>3</td></tr><tr><td>136</td><td>3</td></tr><tr><td>137</td><td>6</td></tr><tr><td>138</td><td>7</td></tr><tr><td>139</td><td>7</td></tr><tr><td>140</td><td>8</td></tr><tr><td>141</td><td>6</td></tr><tr><td>142</td><td>2</td></tr><tr><td>143</td><td>7</td></tr><tr><td>144</td><td>5</td></tr><tr><td>145</td><td>6</td></tr><tr><td>146</td><td>6</td></tr><tr><td>147</td><td>1</td></tr><tr><td>148</td><td>6</td></tr><tr><td>149</td><td>7</td></tr><tr><td>150</td><td>6</td></tr><tr><td>151</td><td>3</td></tr><tr><td>152</td><td>4</td></tr><tr><td>153</td><td>5</td></tr><tr><td>154</td><td>5</td></tr><tr><td>155</td><td>5</td></tr><tr><td>156</td><td>7</td></tr><tr><td>157</td><td>5</td></tr><tr><td>158</td><td>3</td></tr><tr><td>160</td><td>5</td></tr><tr><td>161</td><td>6</td></tr><tr><td>162</td><td>3</td></tr><tr><td>163</td><td>7</td></tr><tr><td>164</td><td>5</td></tr><tr><td>165</td><td>7</td></tr><tr><td>166</td><td>3</td></tr><tr><td>167</td><td>2</td></tr><tr><td>168</td><td>5</td></tr><tr><td>169</td><td>6</td></tr><tr><td>170</td><td>5</td></tr><tr><td>171</td><td>5</td></tr><tr><td>172</td><td>9</td></tr><tr><td>173</td><td>4</td></tr><tr><td>174</td><td>4</td></tr><tr><td>175</td><td>5</td></tr><tr><td>176</td><td>6</td></tr><tr><td>177</td><td>4</td></tr><tr><td>178</td><td>4</td></tr><tr><td>179</td><td>3</td></tr><tr><td>180</td><td>3</td></tr><tr><td>181</td><td>6</td></tr><tr><td>182</td><td>12</td></tr><tr><td>183</td><td>4</td></tr><tr><td>184</td><td>4</td></tr><tr><td>185</td><td>12</td></tr><tr><td>186</td><td>4</td></tr><tr><td>187</td><td>7</td></tr><tr><td>188</td><td>6</td></tr><tr><td>189</td><td>5</td></tr><tr><td>190</td><td>5</td></tr><tr><td>191</td><td>5</td></tr><tr><td>192</td><td>2</td></tr><tr><td>193</td><td>7</td></tr><tr><td>194</td><td>1</td></tr><tr><td>195</td><td>6</td></tr><tr><td>196</td><td>4</td></tr><tr><td>197</td><td>6</td></tr><tr><td>198</td><td>8</td></tr></table>"
                    },
                    "metadata": {}
                }
            ],
            "execution_count": 10
        },
        {
            "cell_type": "markdown",
            "source": [
                "<span style=\"color: rgb(0, 0, 0); font-family: &quot;Open Sans&quot;, sans-serif; font-size: 14.44px; background-color: rgb(255, 255, 255);\">Listázzuk azon szálláshelyek azonosítóját és nevét, amelyek a saját helyükön (HELY) a legtöbb csillaggal rendelkeznek!</span>"
            ],
            "metadata": {
                "language": "sql",
                "azdata_cell_guid": "9d55ac64-d505-4d58-ba20-217b0dd8f5a3"
            },
            "attachments": {}
        },
        {
            "cell_type": "code",
            "source": [
                "SELECT SZALLAS_ID AS \"Szállás azonosító\",\r\n",
                "        FIRST_VALUE(SZALLAS_NEV) OVER (PARTITION BY HELY ORDER BY CSILLAGOK_SZAMA DESC) AS \"Szállás név\"\r\n",
                "FROM Szallashely"
            ],
            "metadata": {
                "language": "sql",
                "azdata_cell_guid": "a19de579-5e92-4357-92c6-5c01dd6b0808",
                "tags": []
            },
            "outputs": [
                {
                    "output_type": "display_data",
                    "data": {
                        "text/html": "(21 rows affected)"
                    },
                    "metadata": {}
                },
                {
                    "output_type": "display_data",
                    "data": {
                        "text/html": "Total execution time: 00:00:00.008"
                    },
                    "metadata": {}
                },
                {
                    "output_type": "execute_result",
                    "execution_count": 35,
                    "data": {
                        "application/vnd.dataresource+json": {
                            "schema": {
                                "fields": [
                                    {
                                        "name": "Szállás azonosító"
                                    },
                                    {
                                        "name": "Szállás név"
                                    }
                                ]
                            },
                            "data": [
                                {
                                    "Szállás azonosító": "8",
                                    "Szállás név": "Hotel Három Hattyú"
                                },
                                {
                                    "Szállás azonosító": "9",
                                    "Szállás név": "Hotel Három Hattyú"
                                },
                                {
                                    "Szállás azonosító": "6",
                                    "Szállás név": "Hotel Három Hattyú"
                                },
                                {
                                    "Szállás azonosító": "15",
                                    "Szállás név": "Hotel Három Hattyú"
                                },
                                {
                                    "Szállás azonosító": "7",
                                    "Szállás név": "Hotel Három Hattyú"
                                },
                                {
                                    "Szállás azonosító": "1",
                                    "Szállás név": "Hotel Három Hattyú"
                                },
                                {
                                    "Szállás azonosító": "2",
                                    "Szállás név": "Hotel Három Hattyú"
                                },
                                {
                                    "Szállás azonosító": "11",
                                    "Szállás név": "Partiszél Vendégház"
                                },
                                {
                                    "Szállás azonosító": "5",
                                    "Szállás név": "Fortuna Panzió"
                                },
                                {
                                    "Szállás azonosító": "10",
                                    "Szállás név": "Lagúna Hotel"
                                },
                                {
                                    "Szállás azonosító": "4",
                                    "Szállás név": "Lagúna Hotel"
                                },
                                {
                                    "Szállás azonosító": "12",
                                    "Szállás név": "Lagúna Hotel"
                                },
                                {
                                    "Szállás azonosító": "20",
                                    "Szállás név": "Lagúna Hotel"
                                },
                                {
                                    "Szállás azonosító": "13",
                                    "Szállás név": "Riviéra Panzió"
                                },
                                {
                                    "Szállás azonosító": "14",
                                    "Szállás név": "Riviéra Panzió"
                                },
                                {
                                    "Szállás azonosító": "18",
                                    "Szállás név": "Fortuna Apartman"
                                },
                                {
                                    "Szállás azonosító": "19",
                                    "Szállás név": "Fortuna Apartman"
                                },
                                {
                                    "Szállás azonosító": "21",
                                    "Szállás név": "Fortuna Apartman"
                                },
                                {
                                    "Szállás azonosító": "3",
                                    "Szállás név": "Fortuna Apartman"
                                },
                                {
                                    "Szállás azonosító": "16",
                                    "Szállás név": "Bagoly Hotel"
                                },
                                {
                                    "Szállás azonosító": "17",
                                    "Szállás név": "Szarvas Hotel"
                                }
                            ]
                        },
                        "text/html": "<table><tr><th>Szállás azonosító</th><th>Szállás név</th></tr><tr><td>8</td><td>Hotel Három Hattyú</td></tr><tr><td>9</td><td>Hotel Három Hattyú</td></tr><tr><td>6</td><td>Hotel Három Hattyú</td></tr><tr><td>15</td><td>Hotel Három Hattyú</td></tr><tr><td>7</td><td>Hotel Három Hattyú</td></tr><tr><td>1</td><td>Hotel Három Hattyú</td></tr><tr><td>2</td><td>Hotel Három Hattyú</td></tr><tr><td>11</td><td>Partiszél Vendégház</td></tr><tr><td>5</td><td>Fortuna Panzió</td></tr><tr><td>10</td><td>Lagúna Hotel</td></tr><tr><td>4</td><td>Lagúna Hotel</td></tr><tr><td>12</td><td>Lagúna Hotel</td></tr><tr><td>20</td><td>Lagúna Hotel</td></tr><tr><td>13</td><td>Riviéra Panzió</td></tr><tr><td>14</td><td>Riviéra Panzió</td></tr><tr><td>18</td><td>Fortuna Apartman</td></tr><tr><td>19</td><td>Fortuna Apartman</td></tr><tr><td>21</td><td>Fortuna Apartman</td></tr><tr><td>3</td><td>Fortuna Apartman</td></tr><tr><td>16</td><td>Bagoly Hotel</td></tr><tr><td>17</td><td>Szarvas Hotel</td></tr></table>"
                    },
                    "metadata": {}
                }
            ],
            "execution_count": 35
        },
        {
            "cell_type": "markdown",
            "source": [
                ""
            ],
            "metadata": {
                "language": "sql",
                "azdata_cell_guid": "af3e4d91-541f-4b3f-bc19-9fdeb05300af"
            }
        },
        {
            "cell_type": "markdown",
            "source": [
                "Listázzuk a vendégek azonosítóját, nevét és születési dátumát!\n",
                "\n",
                "- Vegyünk fel két új oszlopot, amelyben a vendég legelső, illetve legutolsó foglalásának dátuma szerepel\n",
                "- A foglalás dátumánál a METTOL oszlopot használjuk"
            ],
            "metadata": {
                "language": "sql",
                "azdata_cell_guid": "afd9e2c1-708e-465c-b222-a69acb90ae2d"
            },
            "attachments": {}
        },
        {
            "cell_type": "code",
            "source": [
                "SELECT v.USERNEV,\r\n",
                "        v.NEV,\r\n",
                "        v.SZUL_DAT,\r\n",
                "        MIN(f.METTOL) AS \"Első  foglalás\",\r\n",
                "        MAX(f.METTOL) AS \"Utolsó foglalás\"\r\n",
                "FROM vendeg v JOIN foglalas f ON v.USERNEV = f.UGYFEL_FK\r\n",
                "GROUP BY v.USERNEV, v.NEV, v.SZUL_DAT\r\n",
                "ORDER BY v.USERNEV"
            ],
            "metadata": {
                "language": "sql",
                "azdata_cell_guid": "8d0a9928-d22b-4788-ba85-4a47f646dc58",
                "tags": [
                    "hide_input"
                ]
            },
            "outputs": [
                {
                    "output_type": "display_data",
                    "data": {
                        "text/html": "(195 rows affected)"
                    },
                    "metadata": {}
                },
                {
                    "output_type": "display_data",
                    "data": {
                        "text/html": "Total execution time: 00:00:00.017"
                    },
                    "metadata": {}
                },
                {
                    "output_type": "execute_result",
                    "execution_count": 50,
                    "data": {
                        "application/vnd.dataresource+json": {
                            "schema": {
                                "fields": [
                                    {
                                        "name": "USERNEV"
                                    },
                                    {
                                        "name": "NEV"
                                    },
                                    {
                                        "name": "SZUL_DAT"
                                    },
                                    {
                                        "name": "Első  foglalás"
                                    },
                                    {
                                        "name": "Utolsó foglalás"
                                    }
                                ]
                            },
                            "data": [
                                {
                                    "USERNEV": "adam1",
                                    "NEV": "Kiss Ádám",
                                    "SZUL_DAT": "1991-12-28",
                                    "Első  foglalás": "2016-05-28",
                                    "Utolsó foglalás": "2016-10-19"
                                },
                                {
                                    "USERNEV": "adam3",
                                    "NEV": "Barkóci Ádám",
                                    "SZUL_DAT": "1970-06-07",
                                    "Első  foglalás": "2016-09-12",
                                    "Utolsó foglalás": "2017-02-06"
                                },
                                {
                                    "USERNEV": "adam4",
                                    "NEV": "Bieniek Ádám",
                                    "SZUL_DAT": "1976-08-01",
                                    "Első  foglalás": "2016-08-28",
                                    "Utolsó foglalás": "2017-02-23"
                                },
                                {
                                    "USERNEV": "agnes",
                                    "NEV": "Lengyel Ágnes",
                                    "SZUL_DAT": "1979-12-10",
                                    "Első  foglalás": "2016-05-09",
                                    "Utolsó foglalás": "2016-11-07"
                                },
                                {
                                    "USERNEV": "agnes3",
                                    "NEV": "Hartyánszky Ágnes",
                                    "SZUL_DAT": "1967-04-11",
                                    "Első  foglalás": "2016-08-04",
                                    "Utolsó foglalás": "2017-02-16"
                                },
                                {
                                    "USERNEV": "AGNESH",
                                    "NEV": "Horváth Ágnes",
                                    "SZUL_DAT": "1981-12-24",
                                    "Első  foglalás": "2016-04-10",
                                    "Utolsó foglalás": "2017-01-16"
                                },
                                {
                                    "USERNEV": "AGNESK",
                                    "NEV": "Kovács Ágnes",
                                    "SZUL_DAT": "1988-10-02",
                                    "Első  foglalás": "2016-07-29",
                                    "Utolsó foglalás": "2016-12-17"
                                },
                                {
                                    "USERNEV": "akos",
                                    "NEV": "Bíró Ákos",
                                    "SZUL_DAT": "1982-04-24",
                                    "Első  foglalás": "2016-05-18",
                                    "Utolsó foglalás": "2016-12-29"
                                },
                                {
                                    "USERNEV": "aladar",
                                    "NEV": "Dunai Aladár",
                                    "SZUL_DAT": "1980-11-01",
                                    "Első  foglalás": "2016-05-17",
                                    "Utolsó foglalás": "2016-11-22"
                                },
                                {
                                    "USERNEV": "alexandra",
                                    "NEV": "Bagóczki Alexandra",
                                    "SZUL_DAT": "1992-03-25",
                                    "Első  foglalás": "2016-05-21",
                                    "Utolsó foglalás": "2017-01-19"
                                },
                                {
                                    "USERNEV": "andi",
                                    "NEV": "Maródi Andrea",
                                    "SZUL_DAT": "1968-05-07",
                                    "Első  foglalás": "2016-05-08",
                                    "Utolsó foglalás": "2017-01-13"
                                },
                                {
                                    "USERNEV": "andras2",
                                    "NEV": "Tóth András",
                                    "SZUL_DAT": "1997-10-31",
                                    "Első  foglalás": "2016-05-30",
                                    "Utolsó foglalás": "2017-02-08"
                                },
                                {
                                    "USERNEV": "andras21",
                                    "NEV": "Molnár András",
                                    "SZUL_DAT": "1977-11-16",
                                    "Első  foglalás": "2016-06-21",
                                    "Utolsó foglalás": "2017-01-28"
                                },
                                {
                                    "USERNEV": "andras3",
                                    "NEV": "Vígh András",
                                    "SZUL_DAT": "1971-04-02",
                                    "Első  foglalás": "2016-05-01",
                                    "Utolsó foglalás": "2017-02-02"
                                },
                                {
                                    "USERNEV": "andras4",
                                    "NEV": "Back András",
                                    "SZUL_DAT": "1984-04-07",
                                    "Első  foglalás": "2016-09-17",
                                    "Utolsó foglalás": "2017-01-09"
                                },
                                {
                                    "USERNEV": "andras41",
                                    "NEV": "Komjáti András",
                                    "SZUL_DAT": "1997-10-25",
                                    "Első  foglalás": "2016-05-14",
                                    "Utolsó foglalás": "2016-11-23"
                                },
                                {
                                    "USERNEV": "ANDRASE",
                                    "NEV": "Erdei András",
                                    "SZUL_DAT": "1997-05-29",
                                    "Első  foglalás": "2016-04-24",
                                    "Utolsó foglalás": "2016-11-29"
                                },
                                {
                                    "USERNEV": "ANDRASN",
                                    "NEV": "Nagy András",
                                    "SZUL_DAT": "1980-09-05",
                                    "Első  foglalás": "2016-11-25",
                                    "Utolsó foglalás": "2016-11-25"
                                },
                                {
                                    "USERNEV": "andrea",
                                    "NEV": "Kiss Andrea",
                                    "SZUL_DAT": "1993-03-25",
                                    "Első  foglalás": "2016-07-27",
                                    "Utolsó foglalás": "2017-02-09"
                                },
                                {
                                    "USERNEV": "andrea3",
                                    "NEV": "Szomor Andrea",
                                    "SZUL_DAT": "1996-05-10",
                                    "Első  foglalás": "2016-11-19",
                                    "Utolsó foglalás": "2016-11-19"
                                },
                                {
                                    "USERNEV": "andrea4",
                                    "NEV": "Neizer Andrea",
                                    "SZUL_DAT": "1981-05-17",
                                    "Első  foglalás": "2016-05-27",
                                    "Utolsó foglalás": "2017-01-22"
                                },
                                {
                                    "USERNEV": "ANDREAT",
                                    "NEV": "Tornyos Andrea",
                                    "SZUL_DAT": "1986-11-14",
                                    "Első  foglalás": "2016-07-27",
                                    "Utolsó foglalás": "2016-10-08"
                                },
                                {
                                    "USERNEV": "anett3",
                                    "NEV": "Pivarcsi Anett",
                                    "SZUL_DAT": "1967-01-03",
                                    "Első  foglalás": "2016-04-10",
                                    "Utolsó foglalás": "2016-10-16"
                                },
                                {
                                    "USERNEV": "aniko",
                                    "NEV": "Tóth Anikó",
                                    "SZUL_DAT": "1973-06-03",
                                    "Első  foglalás": "2016-06-25",
                                    "Utolsó foglalás": "2017-02-23"
                                },
                                {
                                    "USERNEV": "aniko4",
                                    "NEV": "Böröcz Anikó",
                                    "SZUL_DAT": "1978-03-26",
                                    "Első  foglalás": "2016-07-02",
                                    "Utolsó foglalás": "2016-10-16"
                                },
                                {
                                    "USERNEV": "ANIKOS",
                                    "NEV": "Simon Anikó",
                                    "SZUL_DAT": "1988-12-14",
                                    "Első  foglalás": "2016-04-19",
                                    "Utolsó foglalás": "2016-11-10"
                                },
                                {
                                    "USERNEV": "anita",
                                    "NEV": "Hamvay-Kovács Anita",
                                    "SZUL_DAT": "1971-03-20",
                                    "Első  foglalás": "2016-09-28",
                                    "Utolsó foglalás": "2017-02-20"
                                },
                                {
                                    "USERNEV": "annamaria1",
                                    "NEV": "Szűcs Annamária",
                                    "SZUL_DAT": "1990-04-27",
                                    "Első  foglalás": "2016-06-06",
                                    "Utolsó foglalás": "2017-01-30"
                                },
                                {
                                    "USERNEV": "ANNAMARIAR",
                                    "NEV": "Regős Annamária",
                                    "SZUL_DAT": "1977-09-26",
                                    "Első  foglalás": "2016-06-08",
                                    "Utolsó foglalás": "2017-02-16"
                                },
                                {
                                    "USERNEV": "aron2",
                                    "NEV": "Jakab Áron",
                                    "SZUL_DAT": "1971-04-26",
                                    "Első  foglalás": "2016-04-11",
                                    "Utolsó foglalás": "2017-02-26"
                                },
                                {
                                    "USERNEV": "ARONK",
                                    "NEV": "Kelemen Áron",
                                    "SZUL_DAT": "1989-08-10",
                                    "Első  foglalás": "2016-04-06",
                                    "Utolsó foglalás": "2017-02-21"
                                },
                                {
                                    "USERNEV": "arpad2",
                                    "NEV": "Ötvös Árpád",
                                    "SZUL_DAT": "1990-06-08",
                                    "Első  foglalás": "2016-06-05",
                                    "Utolsó foglalás": "2017-02-18"
                                },
                                {
                                    "USERNEV": "ARPADH",
                                    "NEV": "Horváth Árpád",
                                    "SZUL_DAT": "1990-05-18",
                                    "Első  foglalás": "2016-06-06",
                                    "Utolsó foglalás": "2017-02-16"
                                },
                                {
                                    "USERNEV": "ARPADM",
                                    "NEV": "Móricz Árpád",
                                    "SZUL_DAT": "1986-04-20",
                                    "Első  foglalás": "2016-05-29",
                                    "Utolsó foglalás": "2017-02-12"
                                },
                                {
                                    "USERNEV": "attila",
                                    "NEV": "Csóti Attila",
                                    "SZUL_DAT": "1979-12-25",
                                    "Első  foglalás": "2016-09-30",
                                    "Utolsó foglalás": "2016-12-22"
                                },
                                {
                                    "USERNEV": "attila1",
                                    "NEV": "Gulyás Attila",
                                    "SZUL_DAT": "1982-08-16",
                                    "Első  foglalás": "2016-05-20",
                                    "Utolsó foglalás": "2017-01-23"
                                },
                                {
                                    "USERNEV": "attila4",
                                    "NEV": "Baróti Attila",
                                    "SZUL_DAT": "1975-11-06",
                                    "Első  foglalás": "2016-08-18",
                                    "Utolsó foglalás": "2017-02-15"
                                },
                                {
                                    "USERNEV": "ATTILAO",
                                    "NEV": "Opra Attila",
                                    "SZUL_DAT": "1995-05-08",
                                    "Első  foglalás": "2016-05-21",
                                    "Utolsó foglalás": "2017-02-22"
                                },
                                {
                                    "USERNEV": "balazs1",
                                    "NEV": "Bozsik Balázs",
                                    "SZUL_DAT": "1992-11-03",
                                    "Első  foglalás": "2016-05-07",
                                    "Utolsó foglalás": "2017-02-12"
                                },
                                {
                                    "USERNEV": "balazs2",
                                    "NEV": "Szűcs Balázs",
                                    "SZUL_DAT": "1984-10-31",
                                    "Első  foglalás": "2016-04-16",
                                    "Utolsó foglalás": "2017-02-27"
                                },
                                {
                                    "USERNEV": "balazs3",
                                    "NEV": "Bakódy Balázs",
                                    "SZUL_DAT": "1986-09-09",
                                    "Első  foglalás": "2016-07-17",
                                    "Utolsó foglalás": "2017-01-20"
                                },
                                {
                                    "USERNEV": "balint",
                                    "NEV": "Horváth Bálint",
                                    "SZUL_DAT": "1996-03-17",
                                    "Első  foglalás": "2016-04-22",
                                    "Utolsó foglalás": "2016-11-24"
                                },
                                {
                                    "USERNEV": "balint1",
                                    "NEV": "Molnár Bálint",
                                    "SZUL_DAT": "1989-08-24",
                                    "Első  foglalás": "2016-06-07",
                                    "Utolsó foglalás": "2017-01-03"
                                },
                                {
                                    "USERNEV": "balint2",
                                    "NEV": "Vukasinovity Bálint",
                                    "SZUL_DAT": "1997-09-03",
                                    "Első  foglalás": "2016-07-21",
                                    "Utolsó foglalás": "2016-12-04"
                                },
                                {
                                    "USERNEV": "balu",
                                    "NEV": "Endresz Bálint",
                                    "SZUL_DAT": "1976-08-01",
                                    "Első  foglalás": "2016-08-06",
                                    "Utolsó foglalás": "2016-12-22"
                                },
                                {
                                    "USERNEV": "beata4",
                                    "NEV": "Bagi Beáta",
                                    "SZUL_DAT": "1994-03-19",
                                    "Első  foglalás": "2016-04-20",
                                    "Utolsó foglalás": "2016-10-03"
                                },
                                {
                                    "USERNEV": "BEATRIXK",
                                    "NEV": "Kerényi Beatrix",
                                    "SZUL_DAT": "1972-04-06",
                                    "Első  foglalás": "2016-06-10",
                                    "Utolsó foglalás": "2017-02-08"
                                },
                                {
                                    "USERNEV": "BEATRIXS",
                                    "NEV": "Szekendi Beatrix",
                                    "SZUL_DAT": "1981-04-06",
                                    "Első  foglalás": "2016-04-18",
                                    "Utolsó foglalás": "2017-02-03"
                                },
                                {
                                    "USERNEV": "BELAF",
                                    "NEV": "Farkas Béla",
                                    "SZUL_DAT": "1995-02-24",
                                    "Első  foglalás": "2016-07-27",
                                    "Utolsó foglalás": "2016-12-06"
                                },
                                {
                                    "USERNEV": "bence",
                                    "NEV": "Győrffy Bence",
                                    "SZUL_DAT": "1987-07-09",
                                    "Első  foglalás": "2016-05-08",
                                    "Utolsó foglalás": "2017-02-05"
                                },
                                {
                                    "USERNEV": "BENCEB",
                                    "NEV": "Bajusz Bence",
                                    "SZUL_DAT": "1973-06-21",
                                    "Első  foglalás": "2016-05-14",
                                    "Utolsó foglalás": "2017-02-12"
                                },
                                {
                                    "USERNEV": "bernadett1",
                                    "NEV": "Simon Bernadett",
                                    "SZUL_DAT": "1984-10-13",
                                    "Első  foglalás": "2016-06-12",
                                    "Utolsó foglalás": "2017-02-24"
                                },
                                {
                                    "USERNEV": "bernadett2",
                                    "NEV": "Kovács Bernadett",
                                    "SZUL_DAT": "1996-08-20",
                                    "Első  foglalás": "2016-05-01",
                                    "Utolsó foglalás": "2017-01-24"
                                },
                                {
                                    "USERNEV": "BERNADETTO",
                                    "NEV": "Orbán Bernadett",
                                    "SZUL_DAT": "1987-12-07",
                                    "Első  foglalás": "2016-04-10",
                                    "Utolsó foglalás": "2017-01-28"
                                },
                                {
                                    "USERNEV": "bertalan",
                                    "NEV": "Csiger Bertalan",
                                    "SZUL_DAT": "1977-10-15",
                                    "Első  foglalás": "2016-05-18",
                                    "Utolsó foglalás": "2017-02-20"
                                },
                                {
                                    "USERNEV": "brigitta",
                                    "NEV": "Székely Brigitta",
                                    "SZUL_DAT": "1978-09-13",
                                    "Első  foglalás": "2016-05-30",
                                    "Utolsó foglalás": "2017-01-23"
                                },
                                {
                                    "USERNEV": "brigitta3",
                                    "NEV": "Pataki Brigitta",
                                    "SZUL_DAT": "1991-05-23",
                                    "Első  foglalás": "2016-06-01",
                                    "Utolsó foglalás": "2017-02-09"
                                },
                                {
                                    "USERNEV": "csongor3",
                                    "NEV": "Nagymihály Csongor",
                                    "SZUL_DAT": "1984-03-05",
                                    "Első  foglalás": "2016-05-01",
                                    "Utolsó foglalás": "2017-02-13"
                                },
                                {
                                    "USERNEV": "dani",
                                    "NEV": "Vörös Dániel",
                                    "SZUL_DAT": "1986-10-14",
                                    "Első  foglalás": "2016-06-06",
                                    "Utolsó foglalás": "2017-02-25"
                                },
                                {
                                    "USERNEV": "daniel",
                                    "NEV": "Rácz Dániel",
                                    "SZUL_DAT": "1978-11-28",
                                    "Első  foglalás": "2016-04-10",
                                    "Utolsó foglalás": "2017-02-20"
                                },
                                {
                                    "USERNEV": "daniel1",
                                    "NEV": "Keszler Dániel",
                                    "SZUL_DAT": "1969-07-16",
                                    "Első  foglalás": "2016-04-10",
                                    "Utolsó foglalás": "2017-03-01"
                                },
                                {
                                    "USERNEV": "david",
                                    "NEV": "Ambrus Dávid",
                                    "SZUL_DAT": "1974-02-11",
                                    "Első  foglalás": "2016-05-18",
                                    "Utolsó foglalás": "2017-01-18"
                                },
                                {
                                    "USERNEV": "david1",
                                    "NEV": "Sobják Dávid",
                                    "SZUL_DAT": "1970-08-16",
                                    "Első  foglalás": "2016-09-20",
                                    "Utolsó foglalás": "2017-02-25"
                                },
                                {
                                    "USERNEV": "david4",
                                    "NEV": "Berta Dávid",
                                    "SZUL_DAT": "1990-10-08",
                                    "Első  foglalás": "2017-02-16",
                                    "Utolsó foglalás": "2017-02-16"
                                },
                                {
                                    "USERNEV": "debora",
                                    "NEV": "Barna Debóra",
                                    "SZUL_DAT": "1976-10-14",
                                    "Első  foglalás": "2016-06-22",
                                    "Utolsó foglalás": "2017-02-04"
                                },
                                {
                                    "USERNEV": "denes",
                                    "NEV": "Tömböly Dénes",
                                    "SZUL_DAT": "1975-03-14",
                                    "Első  foglalás": "2016-05-27",
                                    "Utolsó foglalás": "2016-11-06"
                                },
                                {
                                    "USERNEV": "dora3",
                                    "NEV": "Sarodi Dóra",
                                    "SZUL_DAT": "1995-05-18",
                                    "Első  foglalás": "2016-08-16",
                                    "Utolsó foglalás": "2016-11-22"
                                },
                                {
                                    "USERNEV": "edit",
                                    "NEV": "Bittmann Edit",
                                    "SZUL_DAT": "1984-04-20",
                                    "Első  foglalás": "2016-07-14",
                                    "Utolsó foglalás": "2017-02-08"
                                },
                                {
                                    "USERNEV": "emese",
                                    "NEV": "Kuruc Emese",
                                    "SZUL_DAT": "1989-08-10",
                                    "Első  foglalás": "2016-07-22",
                                    "Utolsó foglalás": "2017-01-30"
                                },
                                {
                                    "USERNEV": "eszter",
                                    "NEV": "Molnár Eszter",
                                    "SZUL_DAT": "1987-05-10",
                                    "Első  foglalás": "2016-08-12",
                                    "Utolsó foglalás": "2016-12-23"
                                },
                                {
                                    "USERNEV": "eszter2",
                                    "NEV": "Balogh Eszter",
                                    "SZUL_DAT": "1998-01-31",
                                    "Első  foglalás": "2016-06-30",
                                    "Utolsó foglalás": "2016-12-29"
                                },
                                {
                                    "USERNEV": "eszter4",
                                    "NEV": "Fülöp Eszter",
                                    "SZUL_DAT": "1993-06-28",
                                    "Első  foglalás": "2017-01-05",
                                    "Utolsó foglalás": "2017-02-26"
                                },
                                {
                                    "USERNEV": "ESZTERE",
                                    "NEV": "Érsek Eszter",
                                    "SZUL_DAT": "1978-08-28",
                                    "Első  foglalás": "2016-05-30",
                                    "Utolsó foglalás": "2017-02-10"
                                },
                                {
                                    "USERNEV": "eva",
                                    "NEV": "Enyedi Éva",
                                    "SZUL_DAT": "1967-06-30",
                                    "Első  foglalás": "2016-10-06",
                                    "Utolsó foglalás": "2017-01-14"
                                },
                                {
                                    "USERNEV": "eva2",
                                    "NEV": "Perlinger Éva",
                                    "SZUL_DAT": "1971-08-19",
                                    "Első  foglalás": "2016-09-02",
                                    "Utolsó foglalás": "2017-01-06"
                                },
                                {
                                    "USERNEV": "EVAV",
                                    "NEV": "Viktor Éva",
                                    "SZUL_DAT": "1980-12-26",
                                    "Első  foglalás": "2016-05-01",
                                    "Utolsó foglalás": "2017-02-04"
                                },
                                {
                                    "USERNEV": "ferenc1",
                                    "NEV": "Orosz Ferenc",
                                    "SZUL_DAT": "1983-10-08",
                                    "Első  foglalás": "2016-05-08",
                                    "Utolsó foglalás": "2016-11-07"
                                },
                                {
                                    "USERNEV": "fruzsina4",
                                    "NEV": "Frank Fruzsina",
                                    "SZUL_DAT": "1996-08-16",
                                    "Első  foglalás": "2016-06-02",
                                    "Utolsó foglalás": "2017-01-22"
                                },
                                {
                                    "USERNEV": "gabor1",
                                    "NEV": "Köves Gábor",
                                    "SZUL_DAT": "1973-07-15",
                                    "Első  foglalás": "2016-06-20",
                                    "Utolsó foglalás": "2016-11-19"
                                },
                                {
                                    "USERNEV": "gabor4",
                                    "NEV": "Telek Gábor",
                                    "SZUL_DAT": "1987-03-15",
                                    "Első  foglalás": "2016-04-26",
                                    "Utolsó foglalás": "2016-11-07"
                                },
                                {
                                    "USERNEV": "gabriella1",
                                    "NEV": "Nagy Gabriella",
                                    "SZUL_DAT": "1982-11-01",
                                    "Első  foglalás": "2016-04-21",
                                    "Utolsó foglalás": "2017-02-21"
                                },
                                {
                                    "USERNEV": "gabriella10",
                                    "NEV": "Vida Gabriella",
                                    "SZUL_DAT": "1969-06-18",
                                    "Első  foglalás": "2016-10-01",
                                    "Utolsó foglalás": "2016-10-01"
                                },
                                {
                                    "USERNEV": "georgij",
                                    "NEV": "Nyíri Georgij",
                                    "SZUL_DAT": "1983-02-23",
                                    "Első  foglalás": "2016-06-16",
                                    "Utolsó foglalás": "2016-09-18"
                                },
                                {
                                    "USERNEV": "gusztav",
                                    "NEV": "Bárci Gusztáv",
                                    "SZUL_DAT": "1967-02-25",
                                    "Első  foglalás": "2016-05-06",
                                    "Utolsó foglalás": "2017-02-23"
                                },
                                {
                                    "USERNEV": "GYONGYIK",
                                    "NEV": "Kornseé Gyöngyi",
                                    "SZUL_DAT": "1974-06-07",
                                    "Első  foglalás": "2016-06-02",
                                    "Utolsó foglalás": "2017-01-22"
                                },
                                {
                                    "USERNEV": "GYORGYO",
                                    "NEV": "Oroszi György",
                                    "SZUL_DAT": "1980-03-23",
                                    "Első  foglalás": "2016-05-27",
                                    "Utolsó foglalás": "2017-02-24"
                                },
                                {
                                    "USERNEV": "henrik3",
                                    "NEV": "Nádudvari Henrik",
                                    "SZUL_DAT": "1986-12-05",
                                    "Első  foglalás": "2016-08-24",
                                    "Utolsó foglalás": "2017-01-27"
                                },
                                {
                                    "USERNEV": "IBOLYAA",
                                    "NEV": "Andor Ibolya",
                                    "SZUL_DAT": "1983-11-27",
                                    "Első  foglalás": "2016-08-29",
                                    "Utolsó foglalás": "2017-01-17"
                                },
                                {
                                    "USERNEV": "ilona3",
                                    "NEV": "Bosnyák Ilona",
                                    "SZUL_DAT": "1990-08-06",
                                    "Első  foglalás": "2016-07-31",
                                    "Utolsó foglalás": "2016-12-25"
                                },
                                {
                                    "USERNEV": "imre",
                                    "NEV": "Búza Imre",
                                    "SZUL_DAT": "1988-09-30",
                                    "Első  foglalás": "2016-09-17",
                                    "Utolsó foglalás": "2016-10-28"
                                },
                                {
                                    "USERNEV": "imre1",
                                    "NEV": "Papp Imre",
                                    "SZUL_DAT": "1976-06-25",
                                    "Első  foglalás": "2016-06-23",
                                    "Utolsó foglalás": "2017-02-05"
                                },
                                {
                                    "USERNEV": "istvan",
                                    "NEV": "Soós István",
                                    "SZUL_DAT": "1986-06-28",
                                    "Első  foglalás": "2016-10-07",
                                    "Utolsó foglalás": "2017-01-02"
                                },
                                {
                                    "USERNEV": "istvan1",
                                    "NEV": "Vizi István",
                                    "SZUL_DAT": "1997-12-01",
                                    "Első  foglalás": "2016-04-16",
                                    "Utolsó foglalás": "2017-02-07"
                                },
                                {
                                    "USERNEV": "ISTVANV",
                                    "NEV": "Varga István",
                                    "SZUL_DAT": "1989-04-09",
                                    "Első  foglalás": "2016-07-01",
                                    "Utolsó foglalás": "2016-09-29"
                                },
                                {
                                    "USERNEV": "janos3",
                                    "NEV": "Harangozó János",
                                    "SZUL_DAT": "1967-11-02",
                                    "Első  foglalás": "2016-06-04",
                                    "Utolsó foglalás": "2017-02-12"
                                },
                                {
                                    "USERNEV": "JANOSG",
                                    "NEV": "Giliga János",
                                    "SZUL_DAT": "1975-01-03",
                                    "Első  foglalás": "2016-05-09",
                                    "Utolsó foglalás": "2017-01-31"
                                },
                                {
                                    "USERNEV": "JANOSP",
                                    "NEV": "Pálinkás János",
                                    "SZUL_DAT": "1984-10-12",
                                    "Első  foglalás": "2016-07-04",
                                    "Utolsó foglalás": "2016-12-18"
                                },
                                {
                                    "USERNEV": "jozsef",
                                    "NEV": "Gergely József",
                                    "SZUL_DAT": "1985-11-01",
                                    "Első  foglalás": "2016-09-13",
                                    "Utolsó foglalás": "2016-12-06"
                                },
                                {
                                    "USERNEV": "jozsef2",
                                    "NEV": "Vajda József",
                                    "SZUL_DAT": "1978-09-04",
                                    "Első  foglalás": "2016-07-06",
                                    "Utolsó foglalás": "2016-11-25"
                                },
                                {
                                    "USERNEV": "JOZSEFG",
                                    "NEV": "Gyuris József",
                                    "SZUL_DAT": "1975-05-26",
                                    "Első  foglalás": "2016-05-02",
                                    "Utolsó foglalás": "2017-02-24"
                                },
                                {
                                    "USERNEV": "JUDITH",
                                    "NEV": "Hídasi Judit",
                                    "SZUL_DAT": "1997-07-12",
                                    "Első  foglalás": "2016-06-06",
                                    "Utolsó foglalás": "2016-12-19"
                                },
                                {
                                    "USERNEV": "julia",
                                    "NEV": "Tóth Júlia",
                                    "SZUL_DAT": "1993-03-02",
                                    "Első  foglalás": "2016-04-21",
                                    "Utolsó foglalás": "2017-02-27"
                                },
                                {
                                    "USERNEV": "julia4",
                                    "NEV": "Nagy Júlia",
                                    "SZUL_DAT": "1985-08-11",
                                    "Első  foglalás": "2016-11-07",
                                    "Utolsó foglalás": "2017-02-04"
                                },
                                {
                                    "USERNEV": "julianna4",
                                    "NEV": "Szabó Julianna",
                                    "SZUL_DAT": "1990-09-29",
                                    "Első  foglalás": "2016-07-20",
                                    "Utolsó foglalás": "2016-11-27"
                                },
                                {
                                    "USERNEV": "kata",
                                    "NEV": "Gondos Katalin",
                                    "SZUL_DAT": "1968-06-22",
                                    "Első  foglalás": "2016-04-10",
                                    "Utolsó foglalás": "2017-01-15"
                                },
                                {
                                    "USERNEV": "katalin",
                                    "NEV": "Horváth Katalin",
                                    "SZUL_DAT": "1968-01-01",
                                    "Első  foglalás": "2016-04-10",
                                    "Utolsó foglalás": "2017-02-24"
                                },
                                {
                                    "USERNEV": "katalin4",
                                    "NEV": "Kertész Katalin",
                                    "SZUL_DAT": "1986-04-13",
                                    "Első  foglalás": "2016-07-01",
                                    "Utolsó foglalás": "2017-01-24"
                                },
                                {
                                    "USERNEV": "kati",
                                    "NEV": "Zatykó Katalin",
                                    "SZUL_DAT": "1995-05-01",
                                    "Első  foglalás": "2016-06-06",
                                    "Utolsó foglalás": "2016-10-30"
                                },
                                {
                                    "USERNEV": "katka",
                                    "NEV": "Kovács Katalin",
                                    "SZUL_DAT": "1975-03-31",
                                    "Első  foglalás": "2016-04-10",
                                    "Utolsó foglalás": "2017-01-19"
                                },
                                {
                                    "USERNEV": "klaudia2",
                                    "NEV": "Bakó Klaudia",
                                    "SZUL_DAT": "1982-04-16",
                                    "Első  foglalás": "2016-06-06",
                                    "Utolsó foglalás": "2016-10-02"
                                },
                                {
                                    "USERNEV": "kornel4",
                                    "NEV": "Lukács Kornél",
                                    "SZUL_DAT": "1975-09-30",
                                    "Első  foglalás": "2016-05-08",
                                    "Utolsó foglalás": "2016-09-23"
                                },
                                {
                                    "USERNEV": "kristof4",
                                    "NEV": "Poprádi Kristóf",
                                    "SZUL_DAT": "1984-01-15",
                                    "Első  foglalás": "2016-04-08",
                                    "Utolsó foglalás": "2016-09-30"
                                },
                                {
                                    "USERNEV": "kriszti",
                                    "NEV": "Horváth Krisztina",
                                    "SZUL_DAT": "1978-06-12",
                                    "Első  foglalás": "2016-05-19",
                                    "Utolsó foglalás": "2017-03-03"
                                },
                                {
                                    "USERNEV": "krisztian4",
                                    "NEV": "Czérna Krisztián",
                                    "SZUL_DAT": "1970-08-01",
                                    "Első  foglalás": "2016-06-03",
                                    "Utolsó foglalás": "2017-02-23"
                                },
                                {
                                    "USERNEV": "KRISZTIANM",
                                    "NEV": "Mogyródi Krisztián",
                                    "SZUL_DAT": "1968-05-27",
                                    "Első  foglalás": "2016-04-09",
                                    "Utolsó foglalás": "2017-01-16"
                                },
                                {
                                    "USERNEV": "krisztina",
                                    "NEV": "Szedlár Krisztina",
                                    "SZUL_DAT": "1979-05-10",
                                    "Első  foglalás": "2016-05-21",
                                    "Utolsó foglalás": "2017-02-16"
                                },
                                {
                                    "USERNEV": "krisztina1",
                                    "NEV": "Bori Krisztina",
                                    "SZUL_DAT": "1969-10-13",
                                    "Első  foglalás": "2016-04-28",
                                    "Utolsó foglalás": "2017-01-21"
                                },
                                {
                                    "USERNEV": "KRISZTINAG",
                                    "NEV": "Gyárfás Krisztina",
                                    "SZUL_DAT": "1987-09-19",
                                    "Első  foglalás": "2016-04-23",
                                    "Utolsó foglalás": "2017-01-25"
                                },
                                {
                                    "USERNEV": "lajos",
                                    "NEV": "Kiss Lajos",
                                    "SZUL_DAT": "1978-10-31",
                                    "Első  foglalás": "2016-07-18",
                                    "Utolsó foglalás": "2017-02-12"
                                },
                                {
                                    "USERNEV": "lala",
                                    "NEV": "Nagymihály Lajos",
                                    "SZUL_DAT": "1997-02-24",
                                    "Első  foglalás": "2016-06-16",
                                    "Utolsó foglalás": "2017-01-17"
                                },
                                {
                                    "USERNEV": "laszlo1",
                                    "NEV": "Farkas László",
                                    "SZUL_DAT": "1967-10-30",
                                    "Első  foglalás": "2016-09-23",
                                    "Utolsó foglalás": "2016-09-23"
                                },
                                {
                                    "USERNEV": "laszlo2",
                                    "NEV": "Móra László",
                                    "SZUL_DAT": "1975-02-19",
                                    "Első  foglalás": "2016-04-06",
                                    "Utolsó foglalás": "2016-11-25"
                                },
                                {
                                    "USERNEV": "LASZLOA",
                                    "NEV": "Antal László",
                                    "SZUL_DAT": "1969-06-29",
                                    "Első  foglalás": "2016-06-03",
                                    "Utolsó foglalás": "2017-02-08"
                                },
                                {
                                    "USERNEV": "LASZLON",
                                    "NEV": "Nagy László",
                                    "SZUL_DAT": "1969-04-12",
                                    "Első  foglalás": "2016-06-03",
                                    "Utolsó foglalás": "2017-02-18"
                                },
                                {
                                    "USERNEV": "maria1",
                                    "NEV": "Baráth Mária",
                                    "SZUL_DAT": "1995-11-19",
                                    "Első  foglalás": "2016-05-13",
                                    "Utolsó foglalás": "2017-02-24"
                                },
                                {
                                    "USERNEV": "mark",
                                    "NEV": "Kispál Márk",
                                    "SZUL_DAT": "1996-01-23",
                                    "Első  foglalás": "2016-04-19",
                                    "Utolsó foglalás": "2016-11-19"
                                },
                                {
                                    "USERNEV": "MARKH",
                                    "NEV": "Horváth Márk",
                                    "SZUL_DAT": "1997-09-23",
                                    "Első  foglalás": "2016-09-14",
                                    "Utolsó foglalás": "2017-01-22"
                                },
                                {
                                    "USERNEV": "marton",
                                    "NEV": "Kalacsi Márton",
                                    "SZUL_DAT": "1989-06-24",
                                    "Első  foglalás": "2016-04-27",
                                    "Utolsó foglalás": "2017-03-02"
                                },
                                {
                                    "USERNEV": "MATEK",
                                    "NEV": "Koza Máté",
                                    "SZUL_DAT": "1997-02-28",
                                    "Első  foglalás": "2016-08-17",
                                    "Utolsó foglalás": "2017-01-16"
                                },
                                {
                                    "USERNEV": "matyas2",
                                    "NEV": "Botka Mátyás",
                                    "SZUL_DAT": "1972-07-07",
                                    "Első  foglalás": "2016-07-13",
                                    "Utolsó foglalás": "2016-12-09"
                                },
                                {
                                    "USERNEV": "MATYASS",
                                    "NEV": "Szilágyi Mátyás",
                                    "SZUL_DAT": "1975-03-22",
                                    "Első  foglalás": "2016-05-10",
                                    "Utolsó foglalás": "2017-01-09"
                                },
                                {
                                    "USERNEV": "MIHALYJ",
                                    "NEV": "Juhász Mihály",
                                    "SZUL_DAT": "1979-10-12",
                                    "Első  foglalás": "2016-05-30",
                                    "Utolsó foglalás": "2017-02-06"
                                },
                                {
                                    "USERNEV": "miklos2",
                                    "NEV": "Gondos Miklós",
                                    "SZUL_DAT": "1995-10-07",
                                    "Első  foglalás": "2016-04-19",
                                    "Utolsó foglalás": "2016-11-16"
                                },
                                {
                                    "USERNEV": "MIKLOSB",
                                    "NEV": "Balla Miklós",
                                    "SZUL_DAT": "1979-02-16",
                                    "Első  foglalás": "2016-06-26",
                                    "Utolsó foglalás": "2016-12-05"
                                },
                                {
                                    "USERNEV": "MONIKAM",
                                    "NEV": "Mohos Mónika",
                                    "SZUL_DAT": "1974-10-01",
                                    "Első  foglalás": "2016-04-29",
                                    "Utolsó foglalás": "2017-02-23"
                                },
                                {
                                    "USERNEV": "NANDORF",
                                    "NEV": "Fő Nándor",
                                    "SZUL_DAT": "1968-11-12",
                                    "Első  foglalás": "2016-04-06",
                                    "Utolsó foglalás": "2017-02-05"
                                },
                                {
                                    "USERNEV": "nikolett3",
                                    "NEV": "Horváth Nikolett",
                                    "SZUL_DAT": "1981-09-29",
                                    "Első  foglalás": "2016-05-24",
                                    "Utolsó foglalás": "2016-10-22"
                                },
                                {
                                    "USERNEV": "nikoletta4",
                                    "NEV": "Kő Nikoletta",
                                    "SZUL_DAT": "1972-01-10",
                                    "Első  foglalás": "2016-04-08",
                                    "Utolsó foglalás": "2017-02-01"
                                },
                                {
                                    "USERNEV": "NIKOLETTAT",
                                    "NEV": "Tatár Nikoletta",
                                    "SZUL_DAT": "1997-10-19",
                                    "Első  foglalás": "2016-05-22",
                                    "Utolsó foglalás": "2016-09-21"
                                },
                                {
                                    "USERNEV": "norbert",
                                    "NEV": "Szűcs Norbert",
                                    "SZUL_DAT": "1969-07-17",
                                    "Első  foglalás": "2016-07-08",
                                    "Utolsó foglalás": "2017-02-26"
                                },
                                {
                                    "USERNEV": "norbert2",
                                    "NEV": "Hegedűs Norbert",
                                    "SZUL_DAT": "1991-07-17",
                                    "Első  foglalás": "2016-04-19",
                                    "Utolsó foglalás": "2017-01-29"
                                },
                                {
                                    "USERNEV": "norbert4",
                                    "NEV": "Mile Norbert",
                                    "SZUL_DAT": "1983-06-15",
                                    "Első  foglalás": "2016-04-10",
                                    "Utolsó foglalás": "2017-03-03"
                                },
                                {
                                    "USERNEV": "norbert5",
                                    "NEV": "Béres Norbert",
                                    "SZUL_DAT": "1975-07-27",
                                    "Első  foglalás": "2016-06-24",
                                    "Utolsó foglalás": "2016-11-05"
                                },
                                {
                                    "USERNEV": "pal",
                                    "NEV": "Barabás Pál",
                                    "SZUL_DAT": "1968-02-06",
                                    "Első  foglalás": "2016-08-14",
                                    "Utolsó foglalás": "2017-02-20"
                                },
                                {
                                    "USERNEV": "peter1",
                                    "NEV": "Kozma Péter",
                                    "SZUL_DAT": "1976-03-18",
                                    "Első  foglalás": "2016-07-14",
                                    "Utolsó foglalás": "2017-02-28"
                                },
                                {
                                    "USERNEV": "peter2",
                                    "NEV": "Bozsó Péter",
                                    "SZUL_DAT": "1976-01-26",
                                    "Első  foglalás": "2016-07-03",
                                    "Utolsó foglalás": "2016-11-15"
                                },
                                {
                                    "USERNEV": "peter3",
                                    "NEV": "Szalai Péter",
                                    "SZUL_DAT": "1983-07-18",
                                    "Első  foglalás": "2016-06-30",
                                    "Utolsó foglalás": "2017-02-21"
                                },
                                {
                                    "USERNEV": "peter4",
                                    "NEV": "Bíró Péter",
                                    "SZUL_DAT": "1985-09-01",
                                    "Első  foglalás": "2016-04-12",
                                    "Utolsó foglalás": "2017-02-05"
                                },
                                {
                                    "USERNEV": "PETERB",
                                    "NEV": "Berendi Péter",
                                    "SZUL_DAT": "1969-01-01",
                                    "Első  foglalás": "2016-04-06",
                                    "Utolsó foglalás": "2016-11-17"
                                },
                                {
                                    "USERNEV": "polla",
                                    "NEV": "Palágyi Polla",
                                    "SZUL_DAT": "1994-02-04",
                                    "Első  foglalás": "2016-04-17",
                                    "Utolsó foglalás": "2017-02-11"
                                },
                                {
                                    "USERNEV": "rajmond4",
                                    "NEV": "Rácz Rajmond",
                                    "SZUL_DAT": "1993-09-25",
                                    "Első  foglalás": "2016-09-05",
                                    "Utolsó foglalás": "2016-11-16"
                                },
                                {
                                    "USERNEV": "reka4",
                                    "NEV": "Szikszai Réka",
                                    "SZUL_DAT": "1969-11-27",
                                    "Első  foglalás": "2016-07-27",
                                    "Utolsó foglalás": "2017-02-26"
                                },
                                {
                                    "USERNEV": "RENATAK",
                                    "NEV": "Kardos Renáta",
                                    "SZUL_DAT": "1988-05-17",
                                    "Első  foglalás": "2016-10-27",
                                    "Utolsó foglalás": "2017-03-01"
                                },
                                {
                                    "USERNEV": "RENATAS",
                                    "NEV": "Szirmai Renáta",
                                    "SZUL_DAT": "1991-03-26",
                                    "Első  foglalás": "2016-05-04",
                                    "Utolsó foglalás": "2017-02-14"
                                },
                                {
                                    "USERNEV": "robert2",
                                    "NEV": "Patay Róbert",
                                    "SZUL_DAT": "1977-01-08",
                                    "Első  foglalás": "2016-05-15",
                                    "Utolsó foglalás": "2016-12-17"
                                },
                                {
                                    "USERNEV": "ROBERTI",
                                    "NEV": "Iván Róbert",
                                    "SZUL_DAT": "1967-07-02",
                                    "Első  foglalás": "2016-07-12",
                                    "Utolsó foglalás": "2017-02-17"
                                },
                                {
                                    "USERNEV": "ROBERTP",
                                    "NEV": "Pásztor Róbert",
                                    "SZUL_DAT": "1972-05-16",
                                    "Első  foglalás": "2016-07-30",
                                    "Utolsó foglalás": "2016-09-08"
                                },
                                {
                                    "USERNEV": "roland",
                                    "NEV": "Tóth Roland",
                                    "SZUL_DAT": "1968-03-21",
                                    "Első  foglalás": "2016-06-09",
                                    "Utolsó foglalás": "2016-11-19"
                                },
                                {
                                    "USERNEV": "roland1",
                                    "NEV": "Ferencz Roland",
                                    "SZUL_DAT": "1985-12-31",
                                    "Első  foglalás": "2016-11-05",
                                    "Utolsó foglalás": "2017-01-16"
                                },
                                {
                                    "USERNEV": "roza2",
                                    "NEV": "Bucskó Róza",
                                    "SZUL_DAT": "1988-12-26",
                                    "Első  foglalás": "2016-09-10",
                                    "Utolsó foglalás": "2017-02-18"
                                },
                                {
                                    "USERNEV": "sandor",
                                    "NEV": "Karasz Sándor",
                                    "SZUL_DAT": "1970-01-27",
                                    "Első  foglalás": "2016-07-04",
                                    "Utolsó foglalás": "2016-09-19"
                                },
                                {
                                    "USERNEV": "sandor3",
                                    "NEV": "Farkas Sándor",
                                    "SZUL_DAT": "1989-01-27",
                                    "Első  foglalás": "2016-05-12",
                                    "Utolsó foglalás": "2016-11-10"
                                },
                                {
                                    "USERNEV": "sandor4",
                                    "NEV": "Nagy Sándor",
                                    "SZUL_DAT": "1997-06-11",
                                    "Első  foglalás": "2016-10-15",
                                    "Utolsó foglalás": "2017-01-22"
                                },
                                {
                                    "USERNEV": "sara",
                                    "NEV": "Farkas Sára",
                                    "SZUL_DAT": "1973-04-05",
                                    "Első  foglalás": "2016-05-28",
                                    "Utolsó foglalás": "2016-12-25"
                                },
                                {
                                    "USERNEV": "SEBASTIANF",
                                    "NEV": "Foltényi Sebastián",
                                    "SZUL_DAT": "1992-09-09",
                                    "Első  foglalás": "2016-04-06",
                                    "Utolsó foglalás": "2016-09-17"
                                },
                                {
                                    "USERNEV": "sebestyen",
                                    "NEV": "Rab Sebestyén",
                                    "SZUL_DAT": "1992-03-03",
                                    "Első  foglalás": "2016-04-07",
                                    "Utolsó foglalás": "2016-10-26"
                                },
                                {
                                    "USERNEV": "szabolcs",
                                    "NEV": "Bodor Szabolcs",
                                    "SZUL_DAT": "1990-07-16",
                                    "Első  foglalás": "2016-12-05",
                                    "Utolsó foglalás": "2016-12-05"
                                },
                                {
                                    "USERNEV": "SZABOLCSM",
                                    "NEV": "Miklós Szabolcs",
                                    "SZUL_DAT": "1980-08-11",
                                    "Első  foglalás": "2016-06-18",
                                    "Utolsó foglalás": "2017-02-04"
                                },
                                {
                                    "USERNEV": "SZILARDS",
                                    "NEV": "Szalai Szilárd",
                                    "SZUL_DAT": "1967-09-28",
                                    "Első  foglalás": "2016-04-23",
                                    "Utolsó foglalás": "2017-02-08"
                                },
                                {
                                    "USERNEV": "szilvia1",
                                    "NEV": "Tari Szilvia",
                                    "SZUL_DAT": "1971-03-09",
                                    "Első  foglalás": "2016-05-14",
                                    "Utolsó foglalás": "2017-01-28"
                                },
                                {
                                    "USERNEV": "tamara2",
                                    "NEV": "Miklós Tamara",
                                    "SZUL_DAT": "1980-08-11",
                                    "Első  foglalás": "2016-08-12",
                                    "Utolsó foglalás": "2016-11-15"
                                },
                                {
                                    "USERNEV": "tamas",
                                    "NEV": "Antal Tamás",
                                    "SZUL_DAT": "1984-09-05",
                                    "Első  foglalás": "2016-05-17",
                                    "Utolsó foglalás": "2017-02-14"
                                },
                                {
                                    "USERNEV": "TAMASF",
                                    "NEV": "Fényes Tamás",
                                    "SZUL_DAT": "1997-11-06",
                                    "Első  foglalás": "2016-05-03",
                                    "Utolsó foglalás": "2017-02-16"
                                },
                                {
                                    "USERNEV": "tibor",
                                    "NEV": "Gombos Tibor",
                                    "SZUL_DAT": "1993-11-28",
                                    "Első  foglalás": "2016-10-09",
                                    "Utolsó foglalás": "2016-11-05"
                                },
                                {
                                    "USERNEV": "tibor2",
                                    "NEV": "Dániel Tibor",
                                    "SZUL_DAT": "1985-02-02",
                                    "Első  foglalás": "2016-10-20",
                                    "Utolsó foglalás": "2016-10-20"
                                },
                                {
                                    "USERNEV": "tihamer",
                                    "NEV": "Kazy Tihamér",
                                    "SZUL_DAT": "1991-07-05",
                                    "Első  foglalás": "2016-05-30",
                                    "Utolsó foglalás": "2016-12-25"
                                },
                                {
                                    "USERNEV": "timea",
                                    "NEV": "Papós Tímea",
                                    "SZUL_DAT": "1996-01-08",
                                    "Első  foglalás": "2016-12-26",
                                    "Utolsó foglalás": "2016-12-26"
                                },
                                {
                                    "USERNEV": "timea2",
                                    "NEV": "Dusha Tímea",
                                    "SZUL_DAT": "1975-08-22",
                                    "Első  foglalás": "2016-06-06",
                                    "Utolsó foglalás": "2016-12-14"
                                },
                                {
                                    "USERNEV": "tunde",
                                    "NEV": "Turcsik Tünde",
                                    "SZUL_DAT": "1974-02-12",
                                    "Első  foglalás": "2016-06-03",
                                    "Utolsó foglalás": "2017-01-03"
                                },
                                {
                                    "USERNEV": "valentin",
                                    "NEV": "Feró Valentin",
                                    "SZUL_DAT": "1986-01-09",
                                    "Első  foglalás": "2016-05-24",
                                    "Utolsó foglalás": "2016-12-01"
                                },
                                {
                                    "USERNEV": "veronika4",
                                    "NEV": "Tankó Veronika",
                                    "SZUL_DAT": "1983-08-28",
                                    "Első  foglalás": "2016-05-30",
                                    "Utolsó foglalás": "2017-02-03"
                                },
                                {
                                    "USERNEV": "VIKTORIAU",
                                    "NEV": "Urbán Viktoria",
                                    "SZUL_DAT": "1996-05-03",
                                    "Első  foglalás": "2016-04-30",
                                    "Utolsó foglalás": "2016-10-26"
                                },
                                {
                                    "USERNEV": "VIKTORK",
                                    "NEV": "Keresztúri Viktor",
                                    "SZUL_DAT": "1989-05-05",
                                    "Első  foglalás": "2016-05-30",
                                    "Utolsó foglalás": "2016-06-06"
                                },
                                {
                                    "USERNEV": "vivien3",
                                    "NEV": "Boros Vivien",
                                    "SZUL_DAT": "1991-07-01",
                                    "Első  foglalás": "2016-05-02",
                                    "Utolsó foglalás": "2016-12-24"
                                },
                                {
                                    "USERNEV": "zoltan",
                                    "NEV": "Fodor Zoltán",
                                    "SZUL_DAT": "1979-11-25",
                                    "Első  foglalás": "2016-08-24",
                                    "Utolsó foglalás": "2016-09-05"
                                },
                                {
                                    "USERNEV": "zoltan4",
                                    "NEV": "Barna Zoltán",
                                    "SZUL_DAT": "1986-05-20",
                                    "Első  foglalás": "2016-05-12",
                                    "Utolsó foglalás": "2017-01-01"
                                },
                                {
                                    "USERNEV": "ZOLTANP",
                                    "NEV": "Pintér Zoltán",
                                    "SZUL_DAT": "1977-06-07",
                                    "Első  foglalás": "2016-06-05",
                                    "Utolsó foglalás": "2016-12-25"
                                },
                                {
                                    "USERNEV": "ZOLTANT",
                                    "NEV": "Tóth Zoltán",
                                    "SZUL_DAT": "1985-12-14",
                                    "Első  foglalás": "2016-05-01",
                                    "Utolsó foglalás": "2017-01-16"
                                },
                                {
                                    "USERNEV": "zsofi1",
                                    "NEV": "Molnár Zsófi",
                                    "SZUL_DAT": "1983-11-17",
                                    "Első  foglalás": "2016-06-16",
                                    "Utolsó foglalás": "2017-02-18"
                                },
                                {
                                    "USERNEV": "zsolt1",
                                    "NEV": "Pulai Zsolt",
                                    "SZUL_DAT": "1988-05-27",
                                    "Első  foglalás": "2016-04-14",
                                    "Utolsó foglalás": "2016-07-31"
                                },
                                {
                                    "USERNEV": "ZSOLTJ",
                                    "NEV": "Józsa Zsolt",
                                    "SZUL_DAT": "1983-09-29",
                                    "Első  foglalás": "2016-04-24",
                                    "Utolsó foglalás": "2016-10-01"
                                },
                                {
                                    "USERNEV": "zsuzsa",
                                    "NEV": "Pusztai Zsuzsanna",
                                    "SZUL_DAT": "1980-09-17",
                                    "Első  foglalás": "2016-07-24",
                                    "Utolsó foglalás": "2016-11-28"
                                },
                                {
                                    "USERNEV": "zsuzsa3",
                                    "NEV": "Varsányi Zsuzsa",
                                    "SZUL_DAT": "1979-03-06",
                                    "Első  foglalás": "2016-07-30",
                                    "Utolsó foglalás": "2016-10-27"
                                },
                                {
                                    "USERNEV": "zsuzsanna",
                                    "NEV": "Barta Zsuzsanna",
                                    "SZUL_DAT": "1994-10-07",
                                    "Első  foglalás": "2016-05-17",
                                    "Utolsó foglalás": "2017-01-16"
                                },
                                {
                                    "USERNEV": "ZSUZSAV",
                                    "NEV": "Vajda Zsuzsa",
                                    "SZUL_DAT": "1976-12-11",
                                    "Első  foglalás": "2016-04-14",
                                    "Utolsó foglalás": "2016-11-21"
                                }
                            ]
                        },
                        "text/html": "<table><tr><th>USERNEV</th><th>NEV</th><th>SZUL_DAT</th><th>Első  foglalás</th><th>Utolsó foglalás</th></tr><tr><td>adam1</td><td>Kiss Ádám</td><td>1991-12-28</td><td>2016-05-28</td><td>2016-10-19</td></tr><tr><td>adam3</td><td>Barkóci Ádám</td><td>1970-06-07</td><td>2016-09-12</td><td>2017-02-06</td></tr><tr><td>adam4</td><td>Bieniek Ádám</td><td>1976-08-01</td><td>2016-08-28</td><td>2017-02-23</td></tr><tr><td>agnes</td><td>Lengyel Ágnes</td><td>1979-12-10</td><td>2016-05-09</td><td>2016-11-07</td></tr><tr><td>agnes3</td><td>Hartyánszky Ágnes</td><td>1967-04-11</td><td>2016-08-04</td><td>2017-02-16</td></tr><tr><td>AGNESH</td><td>Horváth Ágnes</td><td>1981-12-24</td><td>2016-04-10</td><td>2017-01-16</td></tr><tr><td>AGNESK</td><td>Kovács Ágnes</td><td>1988-10-02</td><td>2016-07-29</td><td>2016-12-17</td></tr><tr><td>akos</td><td>Bíró Ákos</td><td>1982-04-24</td><td>2016-05-18</td><td>2016-12-29</td></tr><tr><td>aladar</td><td>Dunai Aladár</td><td>1980-11-01</td><td>2016-05-17</td><td>2016-11-22</td></tr><tr><td>alexandra</td><td>Bagóczki Alexandra</td><td>1992-03-25</td><td>2016-05-21</td><td>2017-01-19</td></tr><tr><td>andi</td><td>Maródi Andrea</td><td>1968-05-07</td><td>2016-05-08</td><td>2017-01-13</td></tr><tr><td>andras2</td><td>Tóth András</td><td>1997-10-31</td><td>2016-05-30</td><td>2017-02-08</td></tr><tr><td>andras21</td><td>Molnár András</td><td>1977-11-16</td><td>2016-06-21</td><td>2017-01-28</td></tr><tr><td>andras3</td><td>Vígh András</td><td>1971-04-02</td><td>2016-05-01</td><td>2017-02-02</td></tr><tr><td>andras4</td><td>Back András</td><td>1984-04-07</td><td>2016-09-17</td><td>2017-01-09</td></tr><tr><td>andras41</td><td>Komjáti András</td><td>1997-10-25</td><td>2016-05-14</td><td>2016-11-23</td></tr><tr><td>ANDRASE</td><td>Erdei András</td><td>1997-05-29</td><td>2016-04-24</td><td>2016-11-29</td></tr><tr><td>ANDRASN</td><td>Nagy András</td><td>1980-09-05</td><td>2016-11-25</td><td>2016-11-25</td></tr><tr><td>andrea</td><td>Kiss Andrea</td><td>1993-03-25</td><td>2016-07-27</td><td>2017-02-09</td></tr><tr><td>andrea3</td><td>Szomor Andrea</td><td>1996-05-10</td><td>2016-11-19</td><td>2016-11-19</td></tr><tr><td>andrea4</td><td>Neizer Andrea</td><td>1981-05-17</td><td>2016-05-27</td><td>2017-01-22</td></tr><tr><td>ANDREAT</td><td>Tornyos Andrea</td><td>1986-11-14</td><td>2016-07-27</td><td>2016-10-08</td></tr><tr><td>anett3</td><td>Pivarcsi Anett</td><td>1967-01-03</td><td>2016-04-10</td><td>2016-10-16</td></tr><tr><td>aniko</td><td>Tóth Anikó</td><td>1973-06-03</td><td>2016-06-25</td><td>2017-02-23</td></tr><tr><td>aniko4</td><td>Böröcz Anikó</td><td>1978-03-26</td><td>2016-07-02</td><td>2016-10-16</td></tr><tr><td>ANIKOS</td><td>Simon Anikó</td><td>1988-12-14</td><td>2016-04-19</td><td>2016-11-10</td></tr><tr><td>anita</td><td>Hamvay-Kovács Anita</td><td>1971-03-20</td><td>2016-09-28</td><td>2017-02-20</td></tr><tr><td>annamaria1</td><td>Szűcs Annamária</td><td>1990-04-27</td><td>2016-06-06</td><td>2017-01-30</td></tr><tr><td>ANNAMARIAR</td><td>Regős Annamária</td><td>1977-09-26</td><td>2016-06-08</td><td>2017-02-16</td></tr><tr><td>aron2</td><td>Jakab Áron</td><td>1971-04-26</td><td>2016-04-11</td><td>2017-02-26</td></tr><tr><td>ARONK</td><td>Kelemen Áron</td><td>1989-08-10</td><td>2016-04-06</td><td>2017-02-21</td></tr><tr><td>arpad2</td><td>Ötvös Árpád</td><td>1990-06-08</td><td>2016-06-05</td><td>2017-02-18</td></tr><tr><td>ARPADH</td><td>Horváth Árpád</td><td>1990-05-18</td><td>2016-06-06</td><td>2017-02-16</td></tr><tr><td>ARPADM</td><td>Móricz Árpád</td><td>1986-04-20</td><td>2016-05-29</td><td>2017-02-12</td></tr><tr><td>attila</td><td>Csóti Attila</td><td>1979-12-25</td><td>2016-09-30</td><td>2016-12-22</td></tr><tr><td>attila1</td><td>Gulyás Attila</td><td>1982-08-16</td><td>2016-05-20</td><td>2017-01-23</td></tr><tr><td>attila4</td><td>Baróti Attila</td><td>1975-11-06</td><td>2016-08-18</td><td>2017-02-15</td></tr><tr><td>ATTILAO</td><td>Opra Attila</td><td>1995-05-08</td><td>2016-05-21</td><td>2017-02-22</td></tr><tr><td>balazs1</td><td>Bozsik Balázs</td><td>1992-11-03</td><td>2016-05-07</td><td>2017-02-12</td></tr><tr><td>balazs2</td><td>Szűcs Balázs</td><td>1984-10-31</td><td>2016-04-16</td><td>2017-02-27</td></tr><tr><td>balazs3</td><td>Bakódy Balázs</td><td>1986-09-09</td><td>2016-07-17</td><td>2017-01-20</td></tr><tr><td>balint</td><td>Horváth Bálint</td><td>1996-03-17</td><td>2016-04-22</td><td>2016-11-24</td></tr><tr><td>balint1</td><td>Molnár Bálint</td><td>1989-08-24</td><td>2016-06-07</td><td>2017-01-03</td></tr><tr><td>balint2</td><td>Vukasinovity Bálint</td><td>1997-09-03</td><td>2016-07-21</td><td>2016-12-04</td></tr><tr><td>balu</td><td>Endresz Bálint</td><td>1976-08-01</td><td>2016-08-06</td><td>2016-12-22</td></tr><tr><td>beata4</td><td>Bagi Beáta</td><td>1994-03-19</td><td>2016-04-20</td><td>2016-10-03</td></tr><tr><td>BEATRIXK</td><td>Kerényi Beatrix</td><td>1972-04-06</td><td>2016-06-10</td><td>2017-02-08</td></tr><tr><td>BEATRIXS</td><td>Szekendi Beatrix</td><td>1981-04-06</td><td>2016-04-18</td><td>2017-02-03</td></tr><tr><td>BELAF</td><td>Farkas Béla</td><td>1995-02-24</td><td>2016-07-27</td><td>2016-12-06</td></tr><tr><td>bence</td><td>Győrffy Bence</td><td>1987-07-09</td><td>2016-05-08</td><td>2017-02-05</td></tr><tr><td>BENCEB</td><td>Bajusz Bence</td><td>1973-06-21</td><td>2016-05-14</td><td>2017-02-12</td></tr><tr><td>bernadett1</td><td>Simon Bernadett</td><td>1984-10-13</td><td>2016-06-12</td><td>2017-02-24</td></tr><tr><td>bernadett2</td><td>Kovács Bernadett</td><td>1996-08-20</td><td>2016-05-01</td><td>2017-01-24</td></tr><tr><td>BERNADETTO</td><td>Orbán Bernadett</td><td>1987-12-07</td><td>2016-04-10</td><td>2017-01-28</td></tr><tr><td>bertalan</td><td>Csiger Bertalan</td><td>1977-10-15</td><td>2016-05-18</td><td>2017-02-20</td></tr><tr><td>brigitta</td><td>Székely Brigitta</td><td>1978-09-13</td><td>2016-05-30</td><td>2017-01-23</td></tr><tr><td>brigitta3</td><td>Pataki Brigitta</td><td>1991-05-23</td><td>2016-06-01</td><td>2017-02-09</td></tr><tr><td>csongor3</td><td>Nagymihály Csongor</td><td>1984-03-05</td><td>2016-05-01</td><td>2017-02-13</td></tr><tr><td>dani</td><td>Vörös Dániel</td><td>1986-10-14</td><td>2016-06-06</td><td>2017-02-25</td></tr><tr><td>daniel</td><td>Rácz Dániel</td><td>1978-11-28</td><td>2016-04-10</td><td>2017-02-20</td></tr><tr><td>daniel1</td><td>Keszler Dániel</td><td>1969-07-16</td><td>2016-04-10</td><td>2017-03-01</td></tr><tr><td>david</td><td>Ambrus Dávid</td><td>1974-02-11</td><td>2016-05-18</td><td>2017-01-18</td></tr><tr><td>david1</td><td>Sobják Dávid</td><td>1970-08-16</td><td>2016-09-20</td><td>2017-02-25</td></tr><tr><td>david4</td><td>Berta Dávid</td><td>1990-10-08</td><td>2017-02-16</td><td>2017-02-16</td></tr><tr><td>debora</td><td>Barna Debóra</td><td>1976-10-14</td><td>2016-06-22</td><td>2017-02-04</td></tr><tr><td>denes</td><td>Tömböly Dénes</td><td>1975-03-14</td><td>2016-05-27</td><td>2016-11-06</td></tr><tr><td>dora3</td><td>Sarodi Dóra</td><td>1995-05-18</td><td>2016-08-16</td><td>2016-11-22</td></tr><tr><td>edit</td><td>Bittmann Edit</td><td>1984-04-20</td><td>2016-07-14</td><td>2017-02-08</td></tr><tr><td>emese</td><td>Kuruc Emese</td><td>1989-08-10</td><td>2016-07-22</td><td>2017-01-30</td></tr><tr><td>eszter</td><td>Molnár Eszter</td><td>1987-05-10</td><td>2016-08-12</td><td>2016-12-23</td></tr><tr><td>eszter2</td><td>Balogh Eszter</td><td>1998-01-31</td><td>2016-06-30</td><td>2016-12-29</td></tr><tr><td>eszter4</td><td>Fülöp Eszter</td><td>1993-06-28</td><td>2017-01-05</td><td>2017-02-26</td></tr><tr><td>ESZTERE</td><td>Érsek Eszter</td><td>1978-08-28</td><td>2016-05-30</td><td>2017-02-10</td></tr><tr><td>eva</td><td>Enyedi Éva</td><td>1967-06-30</td><td>2016-10-06</td><td>2017-01-14</td></tr><tr><td>eva2</td><td>Perlinger Éva</td><td>1971-08-19</td><td>2016-09-02</td><td>2017-01-06</td></tr><tr><td>EVAV</td><td>Viktor Éva</td><td>1980-12-26</td><td>2016-05-01</td><td>2017-02-04</td></tr><tr><td>ferenc1</td><td>Orosz Ferenc</td><td>1983-10-08</td><td>2016-05-08</td><td>2016-11-07</td></tr><tr><td>fruzsina4</td><td>Frank Fruzsina</td><td>1996-08-16</td><td>2016-06-02</td><td>2017-01-22</td></tr><tr><td>gabor1</td><td>Köves Gábor</td><td>1973-07-15</td><td>2016-06-20</td><td>2016-11-19</td></tr><tr><td>gabor4</td><td>Telek Gábor</td><td>1987-03-15</td><td>2016-04-26</td><td>2016-11-07</td></tr><tr><td>gabriella1</td><td>Nagy Gabriella</td><td>1982-11-01</td><td>2016-04-21</td><td>2017-02-21</td></tr><tr><td>gabriella10</td><td>Vida Gabriella</td><td>1969-06-18</td><td>2016-10-01</td><td>2016-10-01</td></tr><tr><td>georgij</td><td>Nyíri Georgij</td><td>1983-02-23</td><td>2016-06-16</td><td>2016-09-18</td></tr><tr><td>gusztav</td><td>Bárci Gusztáv</td><td>1967-02-25</td><td>2016-05-06</td><td>2017-02-23</td></tr><tr><td>GYONGYIK</td><td>Kornseé Gyöngyi</td><td>1974-06-07</td><td>2016-06-02</td><td>2017-01-22</td></tr><tr><td>GYORGYO</td><td>Oroszi György</td><td>1980-03-23</td><td>2016-05-27</td><td>2017-02-24</td></tr><tr><td>henrik3</td><td>Nádudvari Henrik</td><td>1986-12-05</td><td>2016-08-24</td><td>2017-01-27</td></tr><tr><td>IBOLYAA</td><td>Andor Ibolya</td><td>1983-11-27</td><td>2016-08-29</td><td>2017-01-17</td></tr><tr><td>ilona3</td><td>Bosnyák Ilona</td><td>1990-08-06</td><td>2016-07-31</td><td>2016-12-25</td></tr><tr><td>imre</td><td>Búza Imre</td><td>1988-09-30</td><td>2016-09-17</td><td>2016-10-28</td></tr><tr><td>imre1</td><td>Papp Imre</td><td>1976-06-25</td><td>2016-06-23</td><td>2017-02-05</td></tr><tr><td>istvan</td><td>Soós István</td><td>1986-06-28</td><td>2016-10-07</td><td>2017-01-02</td></tr><tr><td>istvan1</td><td>Vizi István</td><td>1997-12-01</td><td>2016-04-16</td><td>2017-02-07</td></tr><tr><td>ISTVANV</td><td>Varga István</td><td>1989-04-09</td><td>2016-07-01</td><td>2016-09-29</td></tr><tr><td>janos3</td><td>Harangozó János</td><td>1967-11-02</td><td>2016-06-04</td><td>2017-02-12</td></tr><tr><td>JANOSG</td><td>Giliga János</td><td>1975-01-03</td><td>2016-05-09</td><td>2017-01-31</td></tr><tr><td>JANOSP</td><td>Pálinkás János</td><td>1984-10-12</td><td>2016-07-04</td><td>2016-12-18</td></tr><tr><td>jozsef</td><td>Gergely József</td><td>1985-11-01</td><td>2016-09-13</td><td>2016-12-06</td></tr><tr><td>jozsef2</td><td>Vajda József</td><td>1978-09-04</td><td>2016-07-06</td><td>2016-11-25</td></tr><tr><td>JOZSEFG</td><td>Gyuris József</td><td>1975-05-26</td><td>2016-05-02</td><td>2017-02-24</td></tr><tr><td>JUDITH</td><td>Hídasi Judit</td><td>1997-07-12</td><td>2016-06-06</td><td>2016-12-19</td></tr><tr><td>julia</td><td>Tóth Júlia</td><td>1993-03-02</td><td>2016-04-21</td><td>2017-02-27</td></tr><tr><td>julia4</td><td>Nagy Júlia</td><td>1985-08-11</td><td>2016-11-07</td><td>2017-02-04</td></tr><tr><td>julianna4</td><td>Szabó Julianna</td><td>1990-09-29</td><td>2016-07-20</td><td>2016-11-27</td></tr><tr><td>kata</td><td>Gondos Katalin</td><td>1968-06-22</td><td>2016-04-10</td><td>2017-01-15</td></tr><tr><td>katalin</td><td>Horváth Katalin</td><td>1968-01-01</td><td>2016-04-10</td><td>2017-02-24</td></tr><tr><td>katalin4</td><td>Kertész Katalin</td><td>1986-04-13</td><td>2016-07-01</td><td>2017-01-24</td></tr><tr><td>kati</td><td>Zatykó Katalin</td><td>1995-05-01</td><td>2016-06-06</td><td>2016-10-30</td></tr><tr><td>katka</td><td>Kovács Katalin</td><td>1975-03-31</td><td>2016-04-10</td><td>2017-01-19</td></tr><tr><td>klaudia2</td><td>Bakó Klaudia</td><td>1982-04-16</td><td>2016-06-06</td><td>2016-10-02</td></tr><tr><td>kornel4</td><td>Lukács Kornél</td><td>1975-09-30</td><td>2016-05-08</td><td>2016-09-23</td></tr><tr><td>kristof4</td><td>Poprádi Kristóf</td><td>1984-01-15</td><td>2016-04-08</td><td>2016-09-30</td></tr><tr><td>kriszti</td><td>Horváth Krisztina</td><td>1978-06-12</td><td>2016-05-19</td><td>2017-03-03</td></tr><tr><td>krisztian4</td><td>Czérna Krisztián</td><td>1970-08-01</td><td>2016-06-03</td><td>2017-02-23</td></tr><tr><td>KRISZTIANM</td><td>Mogyródi Krisztián</td><td>1968-05-27</td><td>2016-04-09</td><td>2017-01-16</td></tr><tr><td>krisztina</td><td>Szedlár Krisztina</td><td>1979-05-10</td><td>2016-05-21</td><td>2017-02-16</td></tr><tr><td>krisztina1</td><td>Bori Krisztina</td><td>1969-10-13</td><td>2016-04-28</td><td>2017-01-21</td></tr><tr><td>KRISZTINAG</td><td>Gyárfás Krisztina</td><td>1987-09-19</td><td>2016-04-23</td><td>2017-01-25</td></tr><tr><td>lajos</td><td>Kiss Lajos</td><td>1978-10-31</td><td>2016-07-18</td><td>2017-02-12</td></tr><tr><td>lala</td><td>Nagymihály Lajos</td><td>1997-02-24</td><td>2016-06-16</td><td>2017-01-17</td></tr><tr><td>laszlo1</td><td>Farkas László</td><td>1967-10-30</td><td>2016-09-23</td><td>2016-09-23</td></tr><tr><td>laszlo2</td><td>Móra László</td><td>1975-02-19</td><td>2016-04-06</td><td>2016-11-25</td></tr><tr><td>LASZLOA</td><td>Antal László</td><td>1969-06-29</td><td>2016-06-03</td><td>2017-02-08</td></tr><tr><td>LASZLON</td><td>Nagy László</td><td>1969-04-12</td><td>2016-06-03</td><td>2017-02-18</td></tr><tr><td>maria1</td><td>Baráth Mária</td><td>1995-11-19</td><td>2016-05-13</td><td>2017-02-24</td></tr><tr><td>mark</td><td>Kispál Márk</td><td>1996-01-23</td><td>2016-04-19</td><td>2016-11-19</td></tr><tr><td>MARKH</td><td>Horváth Márk</td><td>1997-09-23</td><td>2016-09-14</td><td>2017-01-22</td></tr><tr><td>marton</td><td>Kalacsi Márton</td><td>1989-06-24</td><td>2016-04-27</td><td>2017-03-02</td></tr><tr><td>MATEK</td><td>Koza Máté</td><td>1997-02-28</td><td>2016-08-17</td><td>2017-01-16</td></tr><tr><td>matyas2</td><td>Botka Mátyás</td><td>1972-07-07</td><td>2016-07-13</td><td>2016-12-09</td></tr><tr><td>MATYASS</td><td>Szilágyi Mátyás</td><td>1975-03-22</td><td>2016-05-10</td><td>2017-01-09</td></tr><tr><td>MIHALYJ</td><td>Juhász Mihály</td><td>1979-10-12</td><td>2016-05-30</td><td>2017-02-06</td></tr><tr><td>miklos2</td><td>Gondos Miklós</td><td>1995-10-07</td><td>2016-04-19</td><td>2016-11-16</td></tr><tr><td>MIKLOSB</td><td>Balla Miklós</td><td>1979-02-16</td><td>2016-06-26</td><td>2016-12-05</td></tr><tr><td>MONIKAM</td><td>Mohos Mónika</td><td>1974-10-01</td><td>2016-04-29</td><td>2017-02-23</td></tr><tr><td>NANDORF</td><td>Fő Nándor</td><td>1968-11-12</td><td>2016-04-06</td><td>2017-02-05</td></tr><tr><td>nikolett3</td><td>Horváth Nikolett</td><td>1981-09-29</td><td>2016-05-24</td><td>2016-10-22</td></tr><tr><td>nikoletta4</td><td>Kő Nikoletta</td><td>1972-01-10</td><td>2016-04-08</td><td>2017-02-01</td></tr><tr><td>NIKOLETTAT</td><td>Tatár Nikoletta</td><td>1997-10-19</td><td>2016-05-22</td><td>2016-09-21</td></tr><tr><td>norbert</td><td>Szűcs Norbert</td><td>1969-07-17</td><td>2016-07-08</td><td>2017-02-26</td></tr><tr><td>norbert2</td><td>Hegedűs Norbert</td><td>1991-07-17</td><td>2016-04-19</td><td>2017-01-29</td></tr><tr><td>norbert4</td><td>Mile Norbert</td><td>1983-06-15</td><td>2016-04-10</td><td>2017-03-03</td></tr><tr><td>norbert5</td><td>Béres Norbert</td><td>1975-07-27</td><td>2016-06-24</td><td>2016-11-05</td></tr><tr><td>pal</td><td>Barabás Pál</td><td>1968-02-06</td><td>2016-08-14</td><td>2017-02-20</td></tr><tr><td>peter1</td><td>Kozma Péter</td><td>1976-03-18</td><td>2016-07-14</td><td>2017-02-28</td></tr><tr><td>peter2</td><td>Bozsó Péter</td><td>1976-01-26</td><td>2016-07-03</td><td>2016-11-15</td></tr><tr><td>peter3</td><td>Szalai Péter</td><td>1983-07-18</td><td>2016-06-30</td><td>2017-02-21</td></tr><tr><td>peter4</td><td>Bíró Péter</td><td>1985-09-01</td><td>2016-04-12</td><td>2017-02-05</td></tr><tr><td>PETERB</td><td>Berendi Péter</td><td>1969-01-01</td><td>2016-04-06</td><td>2016-11-17</td></tr><tr><td>polla</td><td>Palágyi Polla</td><td>1994-02-04</td><td>2016-04-17</td><td>2017-02-11</td></tr><tr><td>rajmond4</td><td>Rácz Rajmond</td><td>1993-09-25</td><td>2016-09-05</td><td>2016-11-16</td></tr><tr><td>reka4</td><td>Szikszai Réka</td><td>1969-11-27</td><td>2016-07-27</td><td>2017-02-26</td></tr><tr><td>RENATAK</td><td>Kardos Renáta</td><td>1988-05-17</td><td>2016-10-27</td><td>2017-03-01</td></tr><tr><td>RENATAS</td><td>Szirmai Renáta</td><td>1991-03-26</td><td>2016-05-04</td><td>2017-02-14</td></tr><tr><td>robert2</td><td>Patay Róbert</td><td>1977-01-08</td><td>2016-05-15</td><td>2016-12-17</td></tr><tr><td>ROBERTI</td><td>Iván Róbert</td><td>1967-07-02</td><td>2016-07-12</td><td>2017-02-17</td></tr><tr><td>ROBERTP</td><td>Pásztor Róbert</td><td>1972-05-16</td><td>2016-07-30</td><td>2016-09-08</td></tr><tr><td>roland</td><td>Tóth Roland</td><td>1968-03-21</td><td>2016-06-09</td><td>2016-11-19</td></tr><tr><td>roland1</td><td>Ferencz Roland</td><td>1985-12-31</td><td>2016-11-05</td><td>2017-01-16</td></tr><tr><td>roza2</td><td>Bucskó Róza</td><td>1988-12-26</td><td>2016-09-10</td><td>2017-02-18</td></tr><tr><td>sandor</td><td>Karasz Sándor</td><td>1970-01-27</td><td>2016-07-04</td><td>2016-09-19</td></tr><tr><td>sandor3</td><td>Farkas Sándor</td><td>1989-01-27</td><td>2016-05-12</td><td>2016-11-10</td></tr><tr><td>sandor4</td><td>Nagy Sándor</td><td>1997-06-11</td><td>2016-10-15</td><td>2017-01-22</td></tr><tr><td>sara</td><td>Farkas Sára</td><td>1973-04-05</td><td>2016-05-28</td><td>2016-12-25</td></tr><tr><td>SEBASTIANF</td><td>Foltényi Sebastián</td><td>1992-09-09</td><td>2016-04-06</td><td>2016-09-17</td></tr><tr><td>sebestyen</td><td>Rab Sebestyén</td><td>1992-03-03</td><td>2016-04-07</td><td>2016-10-26</td></tr><tr><td>szabolcs</td><td>Bodor Szabolcs</td><td>1990-07-16</td><td>2016-12-05</td><td>2016-12-05</td></tr><tr><td>SZABOLCSM</td><td>Miklós Szabolcs</td><td>1980-08-11</td><td>2016-06-18</td><td>2017-02-04</td></tr><tr><td>SZILARDS</td><td>Szalai Szilárd</td><td>1967-09-28</td><td>2016-04-23</td><td>2017-02-08</td></tr><tr><td>szilvia1</td><td>Tari Szilvia</td><td>1971-03-09</td><td>2016-05-14</td><td>2017-01-28</td></tr><tr><td>tamara2</td><td>Miklós Tamara</td><td>1980-08-11</td><td>2016-08-12</td><td>2016-11-15</td></tr><tr><td>tamas</td><td>Antal Tamás</td><td>1984-09-05</td><td>2016-05-17</td><td>2017-02-14</td></tr><tr><td>TAMASF</td><td>Fényes Tamás</td><td>1997-11-06</td><td>2016-05-03</td><td>2017-02-16</td></tr><tr><td>tibor</td><td>Gombos Tibor</td><td>1993-11-28</td><td>2016-10-09</td><td>2016-11-05</td></tr><tr><td>tibor2</td><td>Dániel Tibor</td><td>1985-02-02</td><td>2016-10-20</td><td>2016-10-20</td></tr><tr><td>tihamer</td><td>Kazy Tihamér</td><td>1991-07-05</td><td>2016-05-30</td><td>2016-12-25</td></tr><tr><td>timea</td><td>Papós Tímea</td><td>1996-01-08</td><td>2016-12-26</td><td>2016-12-26</td></tr><tr><td>timea2</td><td>Dusha Tímea</td><td>1975-08-22</td><td>2016-06-06</td><td>2016-12-14</td></tr><tr><td>tunde</td><td>Turcsik Tünde</td><td>1974-02-12</td><td>2016-06-03</td><td>2017-01-03</td></tr><tr><td>valentin</td><td>Feró Valentin</td><td>1986-01-09</td><td>2016-05-24</td><td>2016-12-01</td></tr><tr><td>veronika4</td><td>Tankó Veronika</td><td>1983-08-28</td><td>2016-05-30</td><td>2017-02-03</td></tr><tr><td>VIKTORIAU</td><td>Urbán Viktoria</td><td>1996-05-03</td><td>2016-04-30</td><td>2016-10-26</td></tr><tr><td>VIKTORK</td><td>Keresztúri Viktor</td><td>1989-05-05</td><td>2016-05-30</td><td>2016-06-06</td></tr><tr><td>vivien3</td><td>Boros Vivien</td><td>1991-07-01</td><td>2016-05-02</td><td>2016-12-24</td></tr><tr><td>zoltan</td><td>Fodor Zoltán</td><td>1979-11-25</td><td>2016-08-24</td><td>2016-09-05</td></tr><tr><td>zoltan4</td><td>Barna Zoltán</td><td>1986-05-20</td><td>2016-05-12</td><td>2017-01-01</td></tr><tr><td>ZOLTANP</td><td>Pintér Zoltán</td><td>1977-06-07</td><td>2016-06-05</td><td>2016-12-25</td></tr><tr><td>ZOLTANT</td><td>Tóth Zoltán</td><td>1985-12-14</td><td>2016-05-01</td><td>2017-01-16</td></tr><tr><td>zsofi1</td><td>Molnár Zsófi</td><td>1983-11-17</td><td>2016-06-16</td><td>2017-02-18</td></tr><tr><td>zsolt1</td><td>Pulai Zsolt</td><td>1988-05-27</td><td>2016-04-14</td><td>2016-07-31</td></tr><tr><td>ZSOLTJ</td><td>Józsa Zsolt</td><td>1983-09-29</td><td>2016-04-24</td><td>2016-10-01</td></tr><tr><td>zsuzsa</td><td>Pusztai Zsuzsanna</td><td>1980-09-17</td><td>2016-07-24</td><td>2016-11-28</td></tr><tr><td>zsuzsa3</td><td>Varsányi Zsuzsa</td><td>1979-03-06</td><td>2016-07-30</td><td>2016-10-27</td></tr><tr><td>zsuzsanna</td><td>Barta Zsuzsanna</td><td>1994-10-07</td><td>2016-05-17</td><td>2017-01-16</td></tr><tr><td>ZSUZSAV</td><td>Vajda Zsuzsa</td><td>1976-12-11</td><td>2016-04-14</td><td>2016-11-21</td></tr></table>"
                    },
                    "metadata": {}
                }
            ],
            "execution_count": 50
        },
        {
            "cell_type": "markdown",
            "source": [
                "Készítsen lekérdezést, amely megjeleníti, hogy szálláshelyenként, azon belül a pótágyak száma szerint hány főre foglaltak összesen (felnőtt + gyermek)!\n",
                "\n",
                "- Jelenjenek meg a részösszegek és a végösszeg is!"
            ],
            "metadata": {
                "language": "sql",
                "azdata_cell_guid": "95cd51da-d78a-47d9-b459-54eceee387f7"
            },
            "attachments": {}
        },
        {
            "cell_type": "code",
            "source": [
                "SELECT szh.SZALLAS_NEV,\r\n",
                "        sz.POTAGY,\r\n",
                "        SUM(f.FELNOTT_SZAM) + SUM(f.GYERMEK_SZAM) AS \"Fő\"\r\n",
                "FROM Szallashely szh JOIN Szoba sz ON szh.SZALLAS_ID = sz.SZALLAS_FK\r\n",
                "                        JOIN Foglalas f ON sz.SZOBA_ID = f.SZOBA_FK\r\n",
                "GROUP BY szh.SZALLAS_NEV, sz.POTAGY\r\n",
                "ORDER BY szh.SZALLAS_NEV, sz.POTAGY"
            ],
            "metadata": {
                "language": "sql",
                "azdata_cell_guid": "54bf1de9-4c49-4c4c-aff4-2c726f2c560d",
                "tags": [
                    "hide_input"
                ]
            },
            "outputs": [
                {
                    "output_type": "display_data",
                    "data": {
                        "text/html": "(29 rows affected)"
                    },
                    "metadata": {}
                },
                {
                    "output_type": "display_data",
                    "data": {
                        "text/html": "Total execution time: 00:00:00.015"
                    },
                    "metadata": {}
                },
                {
                    "output_type": "execute_result",
                    "execution_count": 61,
                    "data": {
                        "application/vnd.dataresource+json": {
                            "schema": {
                                "fields": [
                                    {
                                        "name": "SZALLAS_NEV"
                                    },
                                    {
                                        "name": "POTAGY"
                                    },
                                    {
                                        "name": "Fő"
                                    }
                                ]
                            },
                            "data": [
                                {
                                    "SZALLAS_NEV": "Családi Ház",
                                    "POTAGY": "0",
                                    "Fő": "10"
                                },
                                {
                                    "SZALLAS_NEV": "Családi Ház",
                                    "POTAGY": "1",
                                    "Fő": "31"
                                },
                                {
                                    "SZALLAS_NEV": "Családi Ház",
                                    "POTAGY": "2",
                                    "Fő": "11"
                                },
                                {
                                    "SZALLAS_NEV": "Fortuna Apartman",
                                    "POTAGY": "0",
                                    "Fő": "18"
                                },
                                {
                                    "SZALLAS_NEV": "Fortuna Apartman",
                                    "POTAGY": "1",
                                    "Fő": "52"
                                },
                                {
                                    "SZALLAS_NEV": "Fortuna Apartman",
                                    "POTAGY": "2",
                                    "Fő": "36"
                                },
                                {
                                    "SZALLAS_NEV": "Fortuna Panzió",
                                    "POTAGY": "0",
                                    "Fő": "158"
                                },
                                {
                                    "SZALLAS_NEV": "Fortuna panzió",
                                    "POTAGY": "1",
                                    "Fő": "113"
                                },
                                {
                                    "SZALLAS_NEV": "Fortuna panzió",
                                    "POTAGY": "2",
                                    "Fő": "40"
                                },
                                {
                                    "SZALLAS_NEV": "Gold Hotel",
                                    "POTAGY": "0",
                                    "Fő": "216"
                                },
                                {
                                    "SZALLAS_NEV": "Gold Hotel",
                                    "POTAGY": "1",
                                    "Fő": "93"
                                },
                                {
                                    "SZALLAS_NEV": "Gold Hotel",
                                    "POTAGY": "2",
                                    "Fő": "119"
                                },
                                {
                                    "SZALLAS_NEV": "Hotel Három Hattyú",
                                    "POTAGY": "0",
                                    "Fő": "183"
                                },
                                {
                                    "SZALLAS_NEV": "Hotel Három Hattyú",
                                    "POTAGY": "1",
                                    "Fő": "258"
                                },
                                {
                                    "SZALLAS_NEV": "Hotel Három Hattyú",
                                    "POTAGY": "2",
                                    "Fő": "63"
                                },
                                {
                                    "SZALLAS_NEV": "Jáde panzió",
                                    "POTAGY": "0",
                                    "Fő": "66"
                                },
                                {
                                    "SZALLAS_NEV": "Kentaur Hotel",
                                    "POTAGY": "0",
                                    "Fő": "168"
                                },
                                {
                                    "SZALLAS_NEV": "Kentaur Hotel",
                                    "POTAGY": "1",
                                    "Fő": "224"
                                },
                                {
                                    "SZALLAS_NEV": "Kentaur Hotel",
                                    "POTAGY": "2",
                                    "Fő": "28"
                                },
                                {
                                    "SZALLAS_NEV": "Lagúna Hotel",
                                    "POTAGY": "0",
                                    "Fő": "105"
                                },
                                {
                                    "SZALLAS_NEV": "Lagúna Hotel",
                                    "POTAGY": "1",
                                    "Fő": "150"
                                },
                                {
                                    "SZALLAS_NEV": "Lagúna Hotel",
                                    "POTAGY": "2",
                                    "Fő": "36"
                                },
                                {
                                    "SZALLAS_NEV": "Partiszél Vendégház",
                                    "POTAGY": "0",
                                    "Fő": "31"
                                },
                                {
                                    "SZALLAS_NEV": "Partiszél Vendégház",
                                    "POTAGY": "1",
                                    "Fő": "17"
                                },
                                {
                                    "SZALLAS_NEV": "Partiszél Vendégház",
                                    "POTAGY": "2",
                                    "Fő": "15"
                                },
                                {
                                    "SZALLAS_NEV": "Sába-Ház",
                                    "POTAGY": "0",
                                    "Fő": "67"
                                },
                                {
                                    "SZALLAS_NEV": "Sába-Ház",
                                    "POTAGY": "1",
                                    "Fő": "99"
                                },
                                {
                                    "SZALLAS_NEV": "Szieszta Apartmanház",
                                    "POTAGY": "0",
                                    "Fő": "64"
                                },
                                {
                                    "SZALLAS_NEV": "Szieszta Apartmanház",
                                    "POTAGY": "1",
                                    "Fő": "19"
                                }
                            ]
                        },
                        "text/html": "<table><tr><th>SZALLAS_NEV</th><th>POTAGY</th><th>Fő</th></tr><tr><td>Családi Ház</td><td>0</td><td>10</td></tr><tr><td>Családi Ház</td><td>1</td><td>31</td></tr><tr><td>Családi Ház</td><td>2</td><td>11</td></tr><tr><td>Fortuna Apartman</td><td>0</td><td>18</td></tr><tr><td>Fortuna Apartman</td><td>1</td><td>52</td></tr><tr><td>Fortuna Apartman</td><td>2</td><td>36</td></tr><tr><td>Fortuna Panzió</td><td>0</td><td>158</td></tr><tr><td>Fortuna panzió</td><td>1</td><td>113</td></tr><tr><td>Fortuna panzió</td><td>2</td><td>40</td></tr><tr><td>Gold Hotel</td><td>0</td><td>216</td></tr><tr><td>Gold Hotel</td><td>1</td><td>93</td></tr><tr><td>Gold Hotel</td><td>2</td><td>119</td></tr><tr><td>Hotel Három Hattyú</td><td>0</td><td>183</td></tr><tr><td>Hotel Három Hattyú</td><td>1</td><td>258</td></tr><tr><td>Hotel Három Hattyú</td><td>2</td><td>63</td></tr><tr><td>Jáde panzió</td><td>0</td><td>66</td></tr><tr><td>Kentaur Hotel</td><td>0</td><td>168</td></tr><tr><td>Kentaur Hotel</td><td>1</td><td>224</td></tr><tr><td>Kentaur Hotel</td><td>2</td><td>28</td></tr><tr><td>Lagúna Hotel</td><td>0</td><td>105</td></tr><tr><td>Lagúna Hotel</td><td>1</td><td>150</td></tr><tr><td>Lagúna Hotel</td><td>2</td><td>36</td></tr><tr><td>Partiszél Vendégház</td><td>0</td><td>31</td></tr><tr><td>Partiszél Vendégház</td><td>1</td><td>17</td></tr><tr><td>Partiszél Vendégház</td><td>2</td><td>15</td></tr><tr><td>Sába-Ház</td><td>0</td><td>67</td></tr><tr><td>Sába-Ház</td><td>1</td><td>99</td></tr><tr><td>Szieszta Apartmanház</td><td>0</td><td>64</td></tr><tr><td>Szieszta Apartmanház</td><td>1</td><td>19</td></tr></table>"
                    },
                    "metadata": {}
                }
            ],
            "execution_count": 61
        },
        {
            "cell_type": "markdown",
            "source": [
                "Neo4j:\n",
                "\n",
                "<span style=\"font-family: &quot;&quot;; color: rgb(133, 153, 0);\">MATCH</span> <span style=\"font-family: &quot;&quot;; color: rgb(88, 110, 117);\">(</span><span style=\"font-family: &quot;&quot;; color: rgb(51, 51, 51);\">p</span><span style=\"font-family: &quot;&quot;; color: rgb(88, 110, 117);\">:</span><span style=\"font-family: &quot;&quot;; color: rgb(51, 51, 51);\">Person</span><span style=\"font-family: &quot;&quot;; color: rgb(88, 110, 117);\">)-[:</span><span style=\"font-family: &quot;&quot;; color: rgb(51, 51, 51);\">ACTED_IN</span><span style=\"font-family: &quot;&quot;; color: rgb(88, 110, 117);\">]-(</span><span style=\"font-family: &quot;&quot;; color: rgb(51, 51, 51);\">m</span><span style=\"font-family: &quot;&quot;; color: rgb(88, 110, 117);\">:</span><span style=\"font-family: &quot;&quot;; color: rgb(51, 51, 51);\">Movie</span><span style=\"font-family: &quot;&quot;; color: rgb(88, 110, 117);\">)-[:</span><span style=\"font-family: &quot;&quot;; color: rgb(51, 51, 51);\">ACTED_IN</span><span style=\"font-family: &quot;&quot;; color: rgb(88, 110, 117);\">]-(</span><span style=\"font-family: &quot;&quot;; color: rgb(51, 51, 51);\">t</span><span style=\"font-family: &quot;&quot;; color: rgb(88, 110, 117);\">:</span><span style=\"font-family: &quot;&quot;; color: rgb(51, 51, 51);\">Person</span><span style=\"font-family: &quot;&quot;; color: rgb(88, 110, 117);\">)</span>\n",
                "\n",
                "<span style=\"color: #859900;\">WHERE</span> <span style=\"color: #333333;\">&nbsp;t</span><span style=\"color: #586e75;\">.</span><span style=\"color: #859900;\">name</span> <span style=\"color: #586e75;\">=</span> <span style=\"color: #b58900;\">\"Tom&nbsp;Hanks\"</span>\n",
                "\n",
                "<span style=\"color: #859900;\">RETURN</span> <span style=\"color: #859900;\">DISTINCT</span> <span style=\"color: #333333;\">&nbsp;p</span><span style=\"color: #586e75;\">.</span><span style=\"color: #859900;\">name</span>"
            ],
            "metadata": {
                "language": "sql",
                "azdata_cell_guid": "aa811a3c-88cb-479b-92c8-2651ce883b0b"
            },
            "attachments": {}
        },
        {
            "cell_type": "markdown",
            "source": [
                "Oldja meg REDIS-ben a következő feladatokat:\n",
                "\n",
                "- hozzon létre egy string kulcsot, amely egy könyvtár nevét tartalmazza\n",
                "- hozzon létre egy hash kulcsot, amely egy könyv legalább 3 adatát tartalmazza\n",
                "- hozzon létre egy set kulcsot, amely a könyvtárban lévő könyvek műfajait tartalmazza (legalább 3)\n",
                "- hozzon létre egy list kulcsot, amely a kikölcsönzött könyvek címeit tartalmazza (legalább 3)\n",
                "- hozzon létre egy sorted set kulcsot, amely az adott könyvek címeit és a könyv kölcsönzéseinek számát tartalmazza (legalább 3)\n",
                "\n",
                "Válaszszöveg 6 kérdés\n",
                "\n",
                "Rich text szerkesztő"
            ],
            "metadata": {
                "language": "sql",
                "azdata_cell_guid": "e61d8d59-f3c9-4335-93bb-243036f7d869"
            },
            "attachments": {}
        },
        {
            "cell_type": "code",
            "source": [
                "> SET KonyvtarNeve \"CsodaKonyvtar\"\n",
                "\"OK\"\n",
                "> HSET Konyv Cim \"JoKonyv\" Iro \"Kiss Egyiro\" MegjelenesDatuma \"2024.05.22\"\n",
                "(integer) 3\n",
                "> LPUSH Kikolcsonzott \"EzAKonyv\" \"EgyMasikKonyv\" \"ALegjobbKonyv\"\n",
                "(integer) 3\n",
                "> ZADD Kolcsonzesek 3 \"EgyKonyv\" 2 \"Hoppa\" 5 \"EzIsEgyCim\"\n",
                "(integer) 3\n",
                "> SADD Mufajok \"Krimi\" \"Romantikus\" \"Fantasy\"\n",
                "(integer) 3"
            ],
            "metadata": {
                "language": "sql",
                "azdata_cell_guid": "e04fd5bd-1bd3-4cfa-b5fc-1a571ebf0838"
            },
            "outputs": [],
            "execution_count": null
        }
    ]
}